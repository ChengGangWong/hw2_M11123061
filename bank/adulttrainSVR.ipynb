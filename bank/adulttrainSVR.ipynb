{
 "cells": [
  {
   "cell_type": "code",
   "execution_count": 69,
   "metadata": {},
   "outputs": [
    {
     "name": "stdout",
     "output_type": "stream",
     "text": [
      "Requirement already satisfied: pandas in c:\\users\\user\\anaconda3\\lib\\site-packages (1.4.2)\n",
      "Requirement already satisfied: pytz>=2020.1 in c:\\users\\user\\anaconda3\\lib\\site-packages (from pandas) (2021.3)\n",
      "Requirement already satisfied: numpy>=1.18.5 in c:\\users\\user\\anaconda3\\lib\\site-packages (from pandas) (1.21.5)\n",
      "Requirement already satisfied: python-dateutil>=2.8.1 in c:\\users\\user\\anaconda3\\lib\\site-packages (from pandas) (2.8.2)\n",
      "Requirement already satisfied: six>=1.5 in c:\\users\\user\\anaconda3\\lib\\site-packages (from python-dateutil>=2.8.1->pandas) (1.16.0)\n",
      "Note: you may need to restart the kernel to use updated packages.\n"
     ]
    }
   ],
   "source": [
    "pip install pandas"
   ]
  },
  {
   "cell_type": "code",
   "execution_count": 70,
   "metadata": {},
   "outputs": [
    {
     "name": "stdout",
     "output_type": "stream",
     "text": [
      "Requirement already satisfied: graphviz in c:\\users\\user\\anaconda3\\lib\\site-packages (0.20.1)\n",
      "Note: you may need to restart the kernel to use updated packages.\n"
     ]
    }
   ],
   "source": [
    "pip install graphviz"
   ]
  },
  {
   "cell_type": "code",
   "execution_count": 71,
   "metadata": {},
   "outputs": [
    {
     "name": "stdout",
     "output_type": "stream",
     "text": [
      "Requirement already satisfied: pydotplus in c:\\users\\user\\anaconda3\\lib\\site-packages (2.0.2)\n",
      "Requirement already satisfied: pyparsing>=2.0.1 in c:\\users\\user\\anaconda3\\lib\\site-packages (from pydotplus) (3.0.4)\n",
      "Note: you may need to restart the kernel to use updated packages.\n"
     ]
    }
   ],
   "source": [
    "pip install pydotplus"
   ]
  },
  {
   "cell_type": "code",
   "execution_count": 72,
   "metadata": {},
   "outputs": [
    {
     "name": "stdout",
     "output_type": "stream",
     "text": [
      "Requirement already satisfied: six in c:\\users\\user\\anaconda3\\lib\\site-packages (1.16.0)\n",
      "Note: you may need to restart the kernel to use updated packages.\n"
     ]
    }
   ],
   "source": [
    "pip install six"
   ]
  },
  {
   "cell_type": "code",
   "execution_count": 4,
   "metadata": {},
   "outputs": [],
   "source": [
    "from sklearn.ensemble import RandomForestClassifier\n",
    "from sklearn import svm\n",
    "from sklearn import preprocessing\n",
    "from sklearn import metrics\n",
    "from functools import partial\n",
    "from sklearn.datasets import load_breast_cancer\n",
    "from sklearn.model_selection import cross_val_score\n",
    "from sklearn.metrics import mean_absolute_error, mean_squared_error, mean_absolute_percentage_error\n",
    "from sklearn.preprocessing import OneHotEncoder\n",
    "from sklearn.preprocessing import LabelEncoder\n",
    "from sklearn.model_selection import train_test_split\n",
    "from sklearn.neighbors import KNeighborsClassifier\n",
    "from sklearn.preprocessing import MinMaxScaler\n",
    "from sklearn.preprocessing import LabelEncoder\n",
    "from sklearn import datasets\n",
    "from sklearn.svm import OneClassSVM\n",
    "import sklearn\n",
    "import numpy as np\n",
    "import matplotlib.pyplot as plt\n",
    "import numpy as np\n",
    "import pandas as pd"
   ]
  },
  {
   "cell_type": "code",
   "execution_count": 6,
   "metadata": {},
   "outputs": [],
   "source": [
    "col_names = ['Age','Workclass(Federal-gov)','Workclass(Local-gov)','Workclass(Private)','Workclass(Self-emp-inc)','Workclass(Self-emp-not-inc)'\n",
    "             ,'Workclass(State-gov)','Workclass(Without-pay)','Fnlwgt','Education','MSRS(Divorced_Not-in-family)','MSRS(Divorced_Other-relative)'\n",
    "             ,'MSRS(Divorced_Own-child)','MSRS(Divorced_Unmarried)','MSRS(Married-AF-spouse_Husband)','MSRS(Married-AF-spouse_Other-relative)'\n",
    "             ,'MSRS(Married-AF-spouse_Own-child)','MSRS(Married-AF-spouse_Wife)','MSRS(Married-civ-spouse_Husband)','MSRS(Married-civ-spouse_Not-in-family)'\n",
    "             ,'MSRS(Married-civ-spouse_Other-relative)','MSRS(Married-civ-spouse_Own-child)','MSRS(Married-civ-spouse_Wife)'\n",
    "             ,'MSRS(Married-spouse-absent_Not-in-family)','MSRS(Married-spouse-absent_Other-relative)','MSRS(Married-spouse-absent_Own-child)'\n",
    "             ,'MSRS(Married-spouse-absent_Unmarried)','MSRS(Never-married_Not-in-family)','MSRS(Never-married_Other-relative)'\n",
    "             ,'MSRS(Never-married_Own-child)','MSRS(Never-married_Unmarried)','MSRS(Separated_Not-in-family)','MSRS(Separated_Other-relative)'\n",
    "             ,'MSRS(Separated_Own-child),MSRS(Separated_Unmarried)','MSRS(Widowed_Not-in-family)','MSRS(Widowed_Other-relative)','MSRS(Widowed_Own-child)'\n",
    "             ,'MSRS(Widowed_Unmarried)','Occupation(Adm-clerical)','Occupation(Armed-Forces)','Occupation(Craft-repair)','Occupation(Exec-managerial)','Occupation(Farming-fishing)'\n",
    "             ,'Occupation(Handlers-cleaners)','Occupation(Machine-op-inspct)','Occupation(Other-service)','Occupation(Priv-house-serv)','Occupation(Prof-specialty)'\n",
    "             ,'Occupation(Protective-serv)','Occupation(Sales)','Occupation(Tech-support)','Occupation(Transport-moving)','Race(Amer-Indian-Eskimo)','Race(Asian-Pac-Islander)'\n",
    "             ,'Race(Black)','Race(Other)','Race(White)','Sex','Gain','Loss','Country(Cambodia)','Country(Canada)','Country(China)','Country(Columbia)'\n",
    "             ,'Country(Cuba)','Country(Dominican-Republic)','Country(Ecuador)','Country(El-Salvador)','Country(England)','Country(France)'\n",
    "             ,'Country(Germany)','Country(Greece)','Country(Guatemala)','Country(Haiti)','Country(Holand-Netherlands)','Country(Honduras)'\n",
    "             ,'Country(Hong)','Country(Hungary)','Country(India)','Country(Iran)','Country(Ireland)','Country(Italy)','Country(Jamaica)'\n",
    "             ,'Country(Japan)','Country(Laos)','Country(Mexico)','Country(Nicaragua)','Country(Outlying-US(Guam-USVI-etc))','Country(Peru),Country(Philippines)'\n",
    "             ,'Country(Poland)','Country(Portugal)','Country(Puerto-Rico)','Country(Scotland)','Country(South)','Country(Taiwan)'\n",
    "             ,'Country(Thailand)','Country(Trinadad&amp;Tobago)','Country(United-States)','Country(Vietnam)','Country(Yugoslavia)','Over50K','Y']\n",
    "# load datasetSex\n",
    "data = pd.read_csv(\"adult _data(N)_v1.csv\", header=None, names=col_names)"
   ]
  },
  {
   "cell_type": "code",
   "execution_count": 13,
   "metadata": {},
   "outputs": [
    {
     "data": {
      "text/html": [
       "<div>\n",
       "<style scoped>\n",
       "    .dataframe tbody tr th:only-of-type {\n",
       "        vertical-align: middle;\n",
       "    }\n",
       "\n",
       "    .dataframe tbody tr th {\n",
       "        vertical-align: top;\n",
       "    }\n",
       "\n",
       "    .dataframe thead th {\n",
       "        text-align: right;\n",
       "    }\n",
       "</style>\n",
       "<table border=\"1\" class=\"dataframe\">\n",
       "  <thead>\n",
       "    <tr style=\"text-align: right;\">\n",
       "      <th></th>\n",
       "      <th></th>\n",
       "      <th>Age</th>\n",
       "      <th>Workclass(Federal-gov)</th>\n",
       "      <th>Workclass(Local-gov)</th>\n",
       "      <th>Workclass(Private)</th>\n",
       "      <th>Workclass(Self-emp-inc)</th>\n",
       "      <th>Workclass(Self-emp-not-inc)</th>\n",
       "      <th>Workclass(State-gov)</th>\n",
       "      <th>Workclass(Without-pay)</th>\n",
       "      <th>Fnlwgt</th>\n",
       "      <th>Education</th>\n",
       "      <th>...</th>\n",
       "      <th>Country(Scotland)</th>\n",
       "      <th>Country(South)</th>\n",
       "      <th>Country(Taiwan)</th>\n",
       "      <th>Country(Thailand)</th>\n",
       "      <th>Country(Trinadad&amp;amp;Tobago)</th>\n",
       "      <th>Country(United-States)</th>\n",
       "      <th>Country(Vietnam)</th>\n",
       "      <th>Country(Yugoslavia)</th>\n",
       "      <th>Over50K</th>\n",
       "      <th>Y</th>\n",
       "    </tr>\n",
       "  </thead>\n",
       "  <tbody>\n",
       "    <tr>\n",
       "      <th>0.301370</th>\n",
       "      <th>0</th>\n",
       "      <td>0</td>\n",
       "      <td>0</td>\n",
       "      <td>0</td>\n",
       "      <td>0</td>\n",
       "      <td>1</td>\n",
       "      <td>0</td>\n",
       "      <td>0.043338</td>\n",
       "      <td>0.800000</td>\n",
       "      <td>0</td>\n",
       "      <td>0</td>\n",
       "      <td>...</td>\n",
       "      <td>0</td>\n",
       "      <td>0</td>\n",
       "      <td>0</td>\n",
       "      <td>0</td>\n",
       "      <td>0</td>\n",
       "      <td>1</td>\n",
       "      <td>0</td>\n",
       "      <td>0</td>\n",
       "      <td>0</td>\n",
       "      <td>40</td>\n",
       "    </tr>\n",
       "    <tr>\n",
       "      <th>0.452055</th>\n",
       "      <th>0</th>\n",
       "      <td>0</td>\n",
       "      <td>0</td>\n",
       "      <td>0</td>\n",
       "      <td>1</td>\n",
       "      <td>0</td>\n",
       "      <td>0</td>\n",
       "      <td>0.047277</td>\n",
       "      <td>0.800000</td>\n",
       "      <td>0</td>\n",
       "      <td>0</td>\n",
       "      <td>...</td>\n",
       "      <td>0</td>\n",
       "      <td>0</td>\n",
       "      <td>0</td>\n",
       "      <td>0</td>\n",
       "      <td>0</td>\n",
       "      <td>1</td>\n",
       "      <td>0</td>\n",
       "      <td>0</td>\n",
       "      <td>0</td>\n",
       "      <td>13</td>\n",
       "    </tr>\n",
       "    <tr>\n",
       "      <th>0.287671</th>\n",
       "      <th>0</th>\n",
       "      <td>0</td>\n",
       "      <td>1</td>\n",
       "      <td>0</td>\n",
       "      <td>0</td>\n",
       "      <td>0</td>\n",
       "      <td>0</td>\n",
       "      <td>0.137244</td>\n",
       "      <td>0.533333</td>\n",
       "      <td>1</td>\n",
       "      <td>0</td>\n",
       "      <td>...</td>\n",
       "      <td>0</td>\n",
       "      <td>0</td>\n",
       "      <td>0</td>\n",
       "      <td>0</td>\n",
       "      <td>0</td>\n",
       "      <td>1</td>\n",
       "      <td>0</td>\n",
       "      <td>0</td>\n",
       "      <td>0</td>\n",
       "      <td>40</td>\n",
       "    </tr>\n",
       "    <tr>\n",
       "      <th>0.493151</th>\n",
       "      <th>0</th>\n",
       "      <td>0</td>\n",
       "      <td>1</td>\n",
       "      <td>0</td>\n",
       "      <td>0</td>\n",
       "      <td>0</td>\n",
       "      <td>0</td>\n",
       "      <td>0.150212</td>\n",
       "      <td>0.400000</td>\n",
       "      <td>0</td>\n",
       "      <td>0</td>\n",
       "      <td>...</td>\n",
       "      <td>0</td>\n",
       "      <td>0</td>\n",
       "      <td>0</td>\n",
       "      <td>0</td>\n",
       "      <td>0</td>\n",
       "      <td>1</td>\n",
       "      <td>0</td>\n",
       "      <td>0</td>\n",
       "      <td>0</td>\n",
       "      <td>40</td>\n",
       "    </tr>\n",
       "    <tr>\n",
       "      <th>0.150685</th>\n",
       "      <th>0</th>\n",
       "      <td>0</td>\n",
       "      <td>1</td>\n",
       "      <td>0</td>\n",
       "      <td>0</td>\n",
       "      <td>0</td>\n",
       "      <td>0</td>\n",
       "      <td>0.220703</td>\n",
       "      <td>0.800000</td>\n",
       "      <td>0</td>\n",
       "      <td>0</td>\n",
       "      <td>...</td>\n",
       "      <td>0</td>\n",
       "      <td>0</td>\n",
       "      <td>0</td>\n",
       "      <td>0</td>\n",
       "      <td>0</td>\n",
       "      <td>0</td>\n",
       "      <td>0</td>\n",
       "      <td>0</td>\n",
       "      <td>0</td>\n",
       "      <td>40</td>\n",
       "    </tr>\n",
       "  </tbody>\n",
       "</table>\n",
       "<p>5 rows × 102 columns</p>\n",
       "</div>"
      ],
      "text/plain": [
       "            Age  Workclass(Federal-gov)  Workclass(Local-gov)  \\\n",
       "0.301370 0    0                       0                     0   \n",
       "0.452055 0    0                       0                     0   \n",
       "0.287671 0    0                       1                     0   \n",
       "0.493151 0    0                       1                     0   \n",
       "0.150685 0    0                       1                     0   \n",
       "\n",
       "            Workclass(Private)  Workclass(Self-emp-inc)  \\\n",
       "0.301370 0                   0                        1   \n",
       "0.452055 0                   1                        0   \n",
       "0.287671 0                   0                        0   \n",
       "0.493151 0                   0                        0   \n",
       "0.150685 0                   0                        0   \n",
       "\n",
       "            Workclass(Self-emp-not-inc)  Workclass(State-gov)  \\\n",
       "0.301370 0                            0              0.043338   \n",
       "0.452055 0                            0              0.047277   \n",
       "0.287671 0                            0              0.137244   \n",
       "0.493151 0                            0              0.150212   \n",
       "0.150685 0                            0              0.220703   \n",
       "\n",
       "            Workclass(Without-pay)  Fnlwgt  Education  ...  Country(Scotland)  \\\n",
       "0.301370 0                0.800000       0          0  ...                  0   \n",
       "0.452055 0                0.800000       0          0  ...                  0   \n",
       "0.287671 0                0.533333       1          0  ...                  0   \n",
       "0.493151 0                0.400000       0          0  ...                  0   \n",
       "0.150685 0                0.800000       0          0  ...                  0   \n",
       "\n",
       "            Country(South)  Country(Taiwan)  Country(Thailand)  \\\n",
       "0.301370 0               0                0                  0   \n",
       "0.452055 0               0                0                  0   \n",
       "0.287671 0               0                0                  0   \n",
       "0.493151 0               0                0                  0   \n",
       "0.150685 0               0                0                  0   \n",
       "\n",
       "            Country(Trinadad&amp;Tobago)  Country(United-States)  \\\n",
       "0.301370 0                             0                       1   \n",
       "0.452055 0                             0                       1   \n",
       "0.287671 0                             0                       1   \n",
       "0.493151 0                             0                       1   \n",
       "0.150685 0                             0                       0   \n",
       "\n",
       "            Country(Vietnam)  Country(Yugoslavia)  Over50K   Y  \n",
       "0.301370 0                 0                    0        0  40  \n",
       "0.452055 0                 0                    0        0  13  \n",
       "0.287671 0                 0                    0        0  40  \n",
       "0.493151 0                 0                    0        0  40  \n",
       "0.150685 0                 0                    0        0  40  \n",
       "\n",
       "[5 rows x 102 columns]"
      ]
     },
     "execution_count": 13,
     "metadata": {},
     "output_type": "execute_result"
    }
   ],
   "source": [
    "data.head()"
   ]
  },
  {
   "cell_type": "code",
   "execution_count": 14,
   "metadata": {},
   "outputs": [
    {
     "data": {
      "text/plain": [
       "0.301370  0    40\n",
       "0.452055  0    13\n",
       "0.287671  0    40\n",
       "0.493151  0    40\n",
       "0.150685  0    40\n",
       "               ..\n",
       "0.136986  0    38\n",
       "0.315068  0    40\n",
       "0.561644  0    40\n",
       "0.068493  0    20\n",
       "0.479452  0    40\n",
       "Name: Y, Length: 30162, dtype: int64"
      ]
     },
     "execution_count": 14,
     "metadata": {},
     "output_type": "execute_result"
    }
   ],
   "source": [
    "from tkinter import Y\n",
    "feature_cols = ['Age','Workclass(Federal-gov)','Workclass(Local-gov)','Workclass(Private)','Workclass(Self-emp-inc)','Workclass(Self-emp-not-inc)'\n",
    "             ,'Workclass(State-gov)','Workclass(Without-pay)','Fnlwgt','Education','MSRS(Divorced_Not-in-family)','MSRS(Divorced_Other-relative)'\n",
    "             ,'MSRS(Divorced_Own-child)','MSRS(Divorced_Unmarried)','MSRS(Married-AF-spouse_Husband)','MSRS(Married-AF-spouse_Other-relative)'\n",
    "             ,'MSRS(Married-AF-spouse_Own-child)','MSRS(Married-AF-spouse_Wife)','MSRS(Married-civ-spouse_Husband)','MSRS(Married-civ-spouse_Not-in-family)'\n",
    "             ,'MSRS(Married-civ-spouse_Other-relative)','MSRS(Married-civ-spouse_Own-child)','MSRS(Married-civ-spouse_Wife)'\n",
    "             ,'MSRS(Married-spouse-absent_Not-in-family)','MSRS(Married-spouse-absent_Other-relative)','MSRS(Married-spouse-absent_Own-child)'\n",
    "             ,'MSRS(Married-spouse-absent_Unmarried)','MSRS(Never-married_Not-in-family)','MSRS(Never-married_Other-relative)'\n",
    "             ,'MSRS(Never-married_Own-child)','MSRS(Never-married_Unmarried)','MSRS(Separated_Not-in-family)','MSRS(Separated_Other-relative)'\n",
    "             ,'MSRS(Separated_Own-child),MSRS(Separated_Unmarried)','MSRS(Widowed_Not-in-family)','MSRS(Widowed_Other-relative)','MSRS(Widowed_Own-child)'\n",
    "             ,'MSRS(Widowed_Unmarried)','Occupation(Adm-clerical)','Occupation(Armed-Forces)','Occupation(Craft-repair)','Occupation(Exec-managerial)','Occupation(Farming-fishing)'\n",
    "             ,'Occupation(Handlers-cleaners)','Occupation(Machine-op-inspct)','Occupation(Other-service)','Occupation(Priv-house-serv)','Occupation(Prof-specialty)'\n",
    "             ,'Occupation(Protective-serv)','Occupation(Sales)','Occupation(Tech-support)','Occupation(Transport-moving)','Race(Amer-Indian-Eskimo)','Race(Asian-Pac-Islander)'\n",
    "             ,'Race(Black)','Race(Other)','Race(White)','Sex','Gain','Loss','Country(Cambodia)','Country(Canada)','Country(China)','Country(Columbia)'\n",
    "             ,'Country(Cuba)','Country(Dominican-Republic)','Country(Ecuador)','Country(El-Salvador)','Country(England)','Country(France)'\n",
    "             ,'Country(Germany)','Country(Greece)','Country(Guatemala)','Country(Haiti)','Country(Holand-Netherlands)','Country(Honduras)'\n",
    "             ,'Country(Hong)','Country(Hungary)','Country(India)','Country(Iran)','Country(Ireland)','Country(Italy)','Country(Jamaica)'\n",
    "             ,'Country(Japan)','Country(Laos)','Country(Mexico)','Country(Nicaragua)','Country(Outlying-US(Guam-USVI-etc))','Country(Peru),Country(Philippines)'\n",
    "             ,'Country(Poland)','Country(Portugal)','Country(Puerto-Rico)','Country(Scotland)','Country(South)','Country(Taiwan)'\n",
    "             ,'Country(Thailand)','Country(Trinadad&amp;Tobago)','Country(United-States)','Country(Vietnam)','Country(Yugoslavia)','Over50K']\n",
    "X = data[feature_cols] # Features\n",
    "y = data.Y # Target variable\n",
    "y"
   ]
  },
  {
   "cell_type": "code",
   "execution_count": 15,
   "metadata": {},
   "outputs": [],
   "source": [
    "data2 = preprocessing.normalize(data, norm= 'l2')\n",
    "scaler = MinMaxScaler()\n",
    "data3 = scaler.fit(data)\n",
    "data3 = scaler.transform(data)"
   ]
  },
  {
   "cell_type": "code",
   "execution_count": 16,
   "metadata": {},
   "outputs": [],
   "source": [
    "X_train, X_test, y_train, y_test = train_test_split(X, y)"
   ]
  },
  {
   "cell_type": "code",
   "execution_count": 17,
   "metadata": {},
   "outputs": [
    {
     "data": {
      "text/plain": [
       "(22621, 101)"
      ]
     },
     "execution_count": 17,
     "metadata": {},
     "output_type": "execute_result"
    }
   ],
   "source": [
    "X_train.shape"
   ]
  },
  {
   "cell_type": "code",
   "execution_count": 5,
   "metadata": {},
   "outputs": [],
   "source": [
    "#training\n",
    "trainingPath=r'adult _data(N)_v1.csv'\n",
    "trainingData=[]\n",
    "import csv\n",
    "with open(trainingPath, \"r\", newline=\"\") as csvData:\n",
    "  reader = csv.reader(csvData)\n",
    "  for r in reader:\n",
    "     trainingData.append(r)\n",
    "Xtraining=[]\n",
    "ytraining=[]\n",
    "#Feature Label\n",
    "feature=[]\n",
    "#Pure Data\n",
    "pureData=[]\n",
    "for r in range(0,len(trainingData)):\n",
    "    #Row Data\n",
    "    rowData=[]\n",
    "    for c in range(0,len(trainingData[r])):\n",
    "        rowData.append(trainingData[r][c])\n",
    "    if(r==0):\n",
    "        feature=rowData\n",
    "    else:\n",
    "        pureData.append(rowData)\n",
    "X_train=[]\n",
    "y_train=[]\n",
    "for r in range(0,len(pureData)):\n",
    "    #Row Data\n",
    "    rowData=[]\n",
    "    for c in range(0,len(pureData[r])-1):\n",
    "        rowData.append(float(pureData[r][c]))\n",
    "    X_train.append(rowData)\n",
    "    y_train.append(float(pureData[r][len(pureData[r])-1]))\n",
    "#test\n",
    "testPath=r'adult _test(N)_v1.csv'\n",
    "testData=[]\n",
    "import csv\n",
    "with open(testPath, \"r\", newline=\"\") as csvData:\n",
    "  reader = csv.reader(csvData)\n",
    "  for r in reader:\n",
    "     testData.append(r)\n",
    "#Pure Data\n",
    "pureData=[]\n",
    "for r in range(0,len(testData)):\n",
    "    #Row Data\n",
    "    rowData=[]\n",
    "    for c in range(0,len(testData[r])):\n",
    "        rowData.append(testData[r][c])\n",
    "    if(r!=0):\n",
    "        pureData.append(rowData)\n",
    "X_test=[]\n",
    "y_test=[]\n",
    "for r in range(0,len(pureData)):\n",
    "    #Row Data\n",
    "    rowData=[]\n",
    "    for c in range(0,len(pureData[r])-1):\n",
    "        rowData.append(float(pureData[r][c]))\n",
    "    X_test.append(rowData)\n",
    "    y_test.append(float(pureData[r][len(pureData[r])-1]))"
   ]
  },
  {
   "cell_type": "code",
   "execution_count": 6,
   "metadata": {},
   "outputs": [
    {
     "data": {
      "text/plain": [
       "array([43.01731023, 40.11268221, 39.87337044, ..., 39.61082145,\n",
       "       36.89662996, 49.11555473])"
      ]
     },
     "execution_count": 6,
     "metadata": {},
     "output_type": "execute_result"
    }
   ],
   "source": [
    "clf=svm.SVR(C=4, kernel='linear')\n",
    "clf.fit(X_train,y_train)\n",
    "y_pred = clf.predict(X_train)\n",
    "y_pred"
   ]
  },
  {
   "cell_type": "code",
   "execution_count": 7,
   "metadata": {},
   "outputs": [
    {
     "name": "stdout",
     "output_type": "stream",
     "text": [
      "0.11608133888546046\n"
     ]
    }
   ],
   "source": [
    "print(clf.score(X_train,y_train))"
   ]
  },
  {
   "cell_type": "code",
   "execution_count": 20,
   "metadata": {},
   "outputs": [],
   "source": [
    "clf = svm.SVC(kernel='rbf', C=1e3, gamma='auto')\n",
    "clf.fit(X_train, y_train)\n",
    "y_pred_svr=clf.predict(X_test)\n",
    "print(\"MAE:\",mean_absolute_error(y_test,y_pred_svr))\n",
    "print(\"RMSE : %.4g\" % mean_squared_error(y_test, y_pred_svr,squared=False))\n",
    "print(\"MAPE:\",mean_absolute_percentage_error(y_test,y_pred_svr))"
   ]
  },
  {
   "cell_type": "code",
   "execution_count": 14,
   "metadata": {},
   "outputs": [
    {
     "name": "stdout",
     "output_type": "stream",
     "text": [
      "MAE: 7.079001256018317\n",
      "RMSE : 11.34\n",
      "MAPE: 0.2816055718637478\n"
     ]
    },
    {
     "name": "stderr",
     "output_type": "stream",
     "text": [
      "c:\\Users\\USER\\anaconda3\\lib\\site-packages\\sklearn\\svm\\_base.py:1206: ConvergenceWarning: Liblinear failed to converge, increase the number of iterations.\n",
      "  warnings.warn(\n"
     ]
    }
   ],
   "source": [
    "from sklearn.svm import LinearSVR\n",
    "from sklearn.pipeline import make_pipeline\n",
    "from sklearn.preprocessing import StandardScaler\n",
    "regr = make_pipeline(StandardScaler(), LinearSVR(random_state=0, tol=1e-5))\n",
    "regr.fit(X_train, y_train)\n",
    "y_pred_lsvr = regr.predict(X_test)\n",
    "print(\"MAE:\",mean_absolute_error(y_test,y_pred_lsvr))\n",
    "print(\"RMSE : %.4g\" % mean_squared_error(y_test, y_pred_lsvr,squared=False))\n",
    "print(\"MAPE:\",mean_absolute_percentage_error(y_test,y_pred_lsvr))"
   ]
  },
  {
   "cell_type": "code",
   "execution_count": 15,
   "metadata": {},
   "outputs": [
    {
     "name": "stdout",
     "output_type": "stream",
     "text": [
      "MAE: 7.079001256018317\n",
      "RMSE : 11.34\n",
      "MAPE: 0.2816055718637478\n"
     ]
    },
    {
     "name": "stderr",
     "output_type": "stream",
     "text": [
      "c:\\Users\\USER\\anaconda3\\lib\\site-packages\\sklearn\\svm\\_base.py:1206: ConvergenceWarning: Liblinear failed to converge, increase the number of iterations.\n",
      "  warnings.warn(\n"
     ]
    }
   ],
   "source": [
    "# 建立 kernel='linear' 模型\n",
    "linearModel=svm.SVR(C=2, kernel='linear')\n",
    "# 使用訓練資料訓練模型\n",
    "linearModel.fit(X, y)\n",
    "# 使用訓練資料預測分類\n",
    "predicted=linearModel.predict(X_test)\n",
    "regr = make_pipeline(StandardScaler(), LinearSVR(random_state=0, tol=1e-5))\n",
    "regr.fit(X_train, y_train)\n",
    "y_pred = regr.predict(X_test)\n",
    "print(\"MAE:\",mean_absolute_error(y_test,y_pred))\n",
    "print(\"RMSE : %.4g\" % mean_squared_error(y_test, y_pred,squared=False))\n",
    "print(\"MAPE:\",mean_absolute_percentage_error(y_test,y_pred))"
   ]
  },
  {
   "cell_type": "code",
   "execution_count": 16,
   "metadata": {},
   "outputs": [
    {
     "name": "stdout",
     "output_type": "stream",
     "text": [
      "MAE: 7.115369314414534\n",
      "RMSE : 11.97\n",
      "MAPE: 0.282296442215949\n"
     ]
    }
   ],
   "source": [
    "# 建立 kernel='poly' 模型\n",
    "polyModel=svm.SVR(C=6, kernel='poly', degree=3, gamma='auto')\n",
    "# 使用訓練資料訓練模型\n",
    "polyModel.fit(X, y)\n",
    "# 使用訓練資料預測分類\n",
    "predicted=polyModel.predict(X_test)\n",
    "y_pred_lsvr = regr.predict(X_test)\n",
    "print(\"MAE:\",mean_absolute_error(y_test,y_pred_svr))\n",
    "print(\"RMSE : %.4g\" % mean_squared_error(y_test, y_pred_svr,squared=False))\n",
    "print(\"MAPE:\",mean_absolute_percentage_error(y_test,y_pred_svr))"
   ]
  },
  {
   "cell_type": "code",
   "execution_count": 17,
   "metadata": {},
   "outputs": [
    {
     "name": "stdout",
     "output_type": "stream",
     "text": [
      "score_array [0.09583033094914939, 0.09606575139072604, 0.09622246600811324, 0.09625845413104128, 0.09629144405303225, 0.09633347945599169, 0.09637252283209152, 0.09639264669214709, 0.09640516555803846, 0.09641226349286525, 0.09642773654509751, 0.09643793428354497, 0.09643826400355271, 0.096459368175843, 0.09647384046244523, 0.09647469829833533, 0.09648669743875593, 0.09649350099240805, 0.0964976842247649]\n",
      " \n",
      "score_array_MAX: 0.0964976842247649\n",
      "----------------------------------------------------------------------------------------------------------\n",
      "score_array_test [0.09961142518586485, 0.09986987315902718, 0.10008578453567962, 0.10020980567582682, 0.10031366076291337, 0.10039623379389162, 0.10047621290187947, 0.10050556476308603, 0.10050509798994667, 0.10049860944661726, 0.10050275985557988, 0.10050184640837445, 0.10049122942083133, 0.1005026992378445, 0.1005080591045433, 0.10049989379361879, 0.10050402373121714, 0.10050348978374124, 0.10050063320743707]\n",
      " \n",
      "score_array_test_MAX: 0.1005080591045433\n"
     ]
    },
    {
     "data": {
      "text/plain": [
       "[<matplotlib.lines.Line2D at 0x26b8003cd90>]"
      ]
     },
     "execution_count": 17,
     "metadata": {},
     "output_type": "execute_result"
    },
    {
     "data": {
      "image/png": "[encoded data removed]",
      "text/plain": [
       "<Figure size 432x288 with 1 Axes>"
      ]
     },
     "metadata": {
      "needs_background": "light"
     },
     "output_type": "display_data"
    }
   ],
   "source": [
    "score_array= []\n",
    "score_array_test= []\n",
    "for i in range(1,20):   \n",
    "    y_pred_svr = svm.SVR(kernel='linear',C=i)\n",
    "    y_pred_svr.fit(X_train, y_train)\n",
    "    score_val = y_pred_svr.score(X_train, y_train)\n",
    "    score_test = y_pred_svr.score(X_test, y_test)\n",
    "    score_array.append(score_val)\n",
    "    score_array_test.append(score_test)\n",
    "\n",
    "print(\"score_array\",score_array)\n",
    "print(\" \")\n",
    "print(\"score_array_MAX:\", np.max(score_array))\n",
    "print(\"----------------------------------------------------------------------------------------------------------\")\n",
    "print(\"score_array_test\", score_array_test)\n",
    "print(\" \")\n",
    "print(\"score_array_test_MAX:\", np.max(score_array_test))\n",
    "plt.plot(score_array)\n",
    "plt.plot(score_array_test)"
   ]
  },
  {
   "cell_type": "code",
   "execution_count": null,
   "metadata": {},
   "outputs": [],
   "source": []
  }
 ],
 "metadata": {
  "kernelspec": {
   "display_name": "Python 3.9.12 ('base')",
   "language": "python",
   "name": "python3"
  },
  "language_info": {
   "codemirror_mode": {
    "name": "ipython",
    "version": 3
   },
   "file_extension": ".py",
   "mimetype": "text/x-python",
   "name": "python",
   "nbconvert_exporter": "python",
   "pygments_lexer": "ipython3",
   "version": "3.9.12"
  },
  "orig_nbformat": 4,
  "vscode": {
   "interpreter": {
    "hash": "263930470851f494f0ed2879c35b57985588df20f9e529b86e97dd5eb9ddc466"
   }
  }
 },
 "nbformat": 4,
 "nbformat_minor": 2
}
