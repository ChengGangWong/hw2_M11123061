{
 "cells": [
  {
   "cell_type": "code",
   "execution_count": 1,
   "metadata": {},
   "outputs": [
    {
     "name": "stdout",
     "output_type": "stream",
     "text": [
      "Requirement already satisfied: pandas in c:\\users\\user\\anaconda3\\lib\\site-packages (1.4.2)\n",
      "Requirement already satisfied: numpy>=1.18.5 in c:\\users\\user\\anaconda3\\lib\\site-packages (from pandas) (1.21.5)\n",
      "Requirement already satisfied: pytz>=2020.1 in c:\\users\\user\\anaconda3\\lib\\site-packages (from pandas) (2021.3)\n",
      "Requirement already satisfied: python-dateutil>=2.8.1 in c:\\users\\user\\anaconda3\\lib\\site-packages (from pandas) (2.8.2)\n",
      "Requirement already satisfied: six>=1.5 in c:\\users\\user\\anaconda3\\lib\\site-packages (from python-dateutil>=2.8.1->pandas) (1.16.0)\n",
      "Note: you may need to restart the kernel to use updated packages.\n"
     ]
    }
   ],
   "source": [
    "pip install pandas"
   ]
  },
  {
   "cell_type": "code",
   "execution_count": 2,
   "metadata": {},
   "outputs": [
    {
     "name": "stdout",
     "output_type": "stream",
     "text": [
      "Requirement already satisfied: graphviz in c:\\users\\user\\anaconda3\\lib\\site-packages (0.20.1)\n",
      "Note: you may need to restart the kernel to use updated packages.\n"
     ]
    }
   ],
   "source": [
    "pip install graphviz"
   ]
  },
  {
   "cell_type": "code",
   "execution_count": 3,
   "metadata": {},
   "outputs": [
    {
     "name": "stdout",
     "output_type": "stream",
     "text": [
      "Requirement already satisfied: pydotplus in c:\\users\\user\\anaconda3\\lib\\site-packages (2.0.2)\n",
      "Requirement already satisfied: pyparsing>=2.0.1 in c:\\users\\user\\anaconda3\\lib\\site-packages (from pydotplus) (3.0.4)\n",
      "Note: you may need to restart the kernel to use updated packages.\n"
     ]
    }
   ],
   "source": [
    "pip install pydotplus"
   ]
  },
  {
   "cell_type": "code",
   "execution_count": 3,
   "metadata": {},
   "outputs": [],
   "source": [
    "from sklearn.ensemble import RandomForestClassifier\n",
    "from sklearn import svm\n",
    "from sklearn import preprocessing\n",
    "from sklearn.metrics import mean_absolute_error, mean_squared_error, mean_absolute_percentage_error\n",
    "from sklearn.preprocessing import OneHotEncoder\n",
    "from sklearn.preprocessing import LabelEncoder\n",
    "from sklearn.model_selection import train_test_split\n",
    "from sklearn.neighbors import KNeighborsClassifier,KNeighborsRegressor\n",
    "from sklearn.preprocessing import MinMaxScaler\n",
    "from sklearn.preprocessing import LabelEncoder\n",
    "from sklearn import datasets\n",
    "from sklearn import metrics\n",
    "from glob import glob\n",
    "import matplotlib.pyplot as plt\n",
    "import numpy as np\n",
    "import pandas as pd"
   ]
  },
  {
   "cell_type": "code",
   "execution_count": 78,
   "metadata": {},
   "outputs": [
    {
     "name": "stdout",
     "output_type": "stream",
     "text": [
      "['adult\\\\adult_data(N)_v1.csv', 'adult\\\\adult_test(N)_v1.csv']\n"
     ]
    }
   ],
   "source": [
    "\n",
    "files = glob('adult/adult*.csv')\n",
    "print(files)\n"
   ]
  },
  {
   "cell_type": "code",
   "execution_count": null,
   "metadata": {},
   "outputs": [],
   "source": [
    "df = pd.concat(\n",
    "    (pd.read_csv(file, usecols=['name','adult'], dtype={ 'name': str, 'adult':str}) for file in files), ignore_index=True,header=None)\n",
    " \n",
    "print(df)\n"
   ]
  },
  {
   "cell_type": "code",
   "execution_count": 33,
   "metadata": {},
   "outputs": [],
   "source": [
    "col_names = ['Age','Workclass(Federal-gov)','Workclass(Local-gov)','Workclass(Private)','Workclass(Self-emp-inc)','Workclass(Self-emp-not-inc)'\n",
    "             ,'Workclass(State-gov)','Workclass(Without-pay)','Fnlwgt','Education','MSRS(Divorced_Not-in-family)','MSRS(Divorced_Other-relative)'\n",
    "             ,'MSRS(Divorced_Own-child)','MSRS(Divorced_Unmarried)','MSRS(Married-AF-spouse_Husband)','MSRS(Married-AF-spouse_Other-relative)'\n",
    "             ,'MSRS(Married-AF-spouse_Own-child)','MSRS(Married-AF-spouse_Wife)','MSRS(Married-civ-spouse_Husband)','MSRS(Married-civ-spouse_Not-in-family)'\n",
    "             ,'MSRS(Married-civ-spouse_Other-relative)','MSRS(Married-civ-spouse_Own-child)','MSRS(Married-civ-spouse_Wife)'\n",
    "             ,'MSRS(Married-spouse-absent_Not-in-family)','MSRS(Married-spouse-absent_Other-relative)','MSRS(Married-spouse-absent_Own-child)'\n",
    "             ,'MSRS(Married-spouse-absent_Unmarried)','MSRS(Never-married_Not-in-family)','MSRS(Never-married_Other-relative)'\n",
    "             ,'MSRS(Never-married_Own-child)','MSRS(Never-married_Unmarried)','MSRS(Separated_Not-in-family)','MSRS(Separated_Other-relative)'\n",
    "             ,'MSRS(Separated_Own-child),MSRS(Separated_Unmarried)','MSRS(Widowed_Not-in-family)','MSRS(Widowed_Other-relative)','MSRS(Widowed_Own-child)'\n",
    "             ,'MSRS(Widowed_Unmarried)','Occupation(Adm-clerical)','Occupation(Armed-Forces)','Occupation(Craft-repair)','Occupation(Exec-managerial)','Occupation(Farming-fishing)'\n",
    "             ,'Occupation(Handlers-cleaners)','Occupation(Machine-op-inspct)','Occupation(Other-service)','Occupation(Priv-house-serv)','Occupation(Prof-specialty)'\n",
    "             ,'Occupation(Protective-serv)','Occupation(Sales)','Occupation(Tech-support)','Occupation(Transport-moving)','Race(Amer-Indian-Eskimo)','Race(Asian-Pac-Islander)'\n",
    "             ,'Race(Black)','Race(Other)','Race(White)','Sex','Gain','Loss','Country(Cambodia)','Country(Canada)','Country(China)','Country(Columbia)'\n",
    "             ,'Country(Cuba)','Country(Dominican-Republic)','Country(Ecuador)','Country(El-Salvador)','Country(England)','Country(France)'\n",
    "             ,'Country(Germany)','Country(Greece)','Country(Guatemala)','Country(Haiti)','Country(Holand-Netherlands)','Country(Honduras)'\n",
    "             ,'Country(Hong)','Country(Hungary)','Country(India)','Country(Iran)','Country(Ireland)','Country(Italy)','Country(Jamaica)'\n",
    "             ,'Country(Japan)','Country(Laos)','Country(Mexico)','Country(Nicaragua)','Country(Outlying-US(Guam-USVI-etc))','Country(Peru),Country(Philippines)'\n",
    "             ,'Country(Poland)','Country(Portugal)','Country(Puerto-Rico)','Country(Scotland)','Country(South)','Country(Taiwan)'\n",
    "             ,'Country(Thailand)','Country(Trinadad&amp;Tobago)','Country(United-States)','Country(Vietnam)','Country(Yugoslavia)','Over50K','Y']\n",
    "# load datasetSex\n",
    "data = pd.read_csv(\"adult _test(N)_v1.csv\", header=None, names=col_names)"
   ]
  },
  {
   "cell_type": "code",
   "execution_count": 34,
   "metadata": {},
   "outputs": [],
   "source": [
    "col_names = ['Age','Workclass(Federal-gov)','Workclass(Local-gov)','Workclass(Private)','Workclass(Self-emp-inc)','Workclass(Self-emp-not-inc)'\n",
    "             ,'Workclass(State-gov)','Workclass(Without-pay)','Fnlwgt','Education','MSRS(Divorced_Not-in-family)','MSRS(Divorced_Other-relative)'\n",
    "             ,'MSRS(Divorced_Own-child)','MSRS(Divorced_Unmarried)','MSRS(Married-AF-spouse_Husband)','MSRS(Married-AF-spouse_Other-relative)'\n",
    "             ,'MSRS(Married-AF-spouse_Own-child)','MSRS(Married-AF-spouse_Wife)','MSRS(Married-civ-spouse_Husband)','MSRS(Married-civ-spouse_Not-in-family)'\n",
    "             ,'MSRS(Married-civ-spouse_Other-relative)','MSRS(Married-civ-spouse_Own-child)','MSRS(Married-civ-spouse_Wife)'\n",
    "             ,'MSRS(Married-spouse-absent_Not-in-family)','MSRS(Married-spouse-absent_Other-relative)','MSRS(Married-spouse-absent_Own-child)'\n",
    "             ,'MSRS(Married-spouse-absent_Unmarried)','MSRS(Never-married_Not-in-family)','MSRS(Never-married_Other-relative)'\n",
    "             ,'MSRS(Never-married_Own-child)','MSRS(Never-married_Unmarried)','MSRS(Separated_Not-in-family)','MSRS(Separated_Other-relative)'\n",
    "             ,'MSRS(Separated_Own-child),MSRS(Separated_Unmarried)','MSRS(Widowed_Not-in-family)','MSRS(Widowed_Other-relative)','MSRS(Widowed_Own-child)'\n",
    "             ,'MSRS(Widowed_Unmarried)','Occupation(Adm-clerical)','Occupation(Armed-Forces)','Occupation(Craft-repair)','Occupation(Exec-managerial)','Occupation(Farming-fishing)'\n",
    "             ,'Occupation(Handlers-cleaners)','Occupation(Machine-op-inspct)','Occupation(Other-service)','Occupation(Priv-house-serv)','Occupation(Prof-specialty)'\n",
    "             ,'Occupation(Protective-serv)','Occupation(Sales)','Occupation(Tech-support)','Occupation(Transport-moving)','Race(Amer-Indian-Eskimo)','Race(Asian-Pac-Islander)'\n",
    "             ,'Race(Black)','Race(Other)','Race(White)','Sex','Gain','Loss','Country(Cambodia)','Country(Canada)','Country(China)','Country(Columbia)'\n",
    "             ,'Country(Cuba)','Country(Dominican-Republic)','Country(Ecuador)','Country(El-Salvador)','Country(England)','Country(France)'\n",
    "             ,'Country(Germany)','Country(Greece)','Country(Guatemala)','Country(Haiti)','Country(Holand-Netherlands)','Country(Honduras)'\n",
    "             ,'Country(Hong)','Country(Hungary)','Country(India)','Country(Iran)','Country(Ireland)','Country(Italy)','Country(Jamaica)'\n",
    "             ,'Country(Japan)','Country(Laos)','Country(Mexico)','Country(Nicaragua)','Country(Outlying-US(Guam-USVI-etc))','Country(Peru),Country(Philippines)'\n",
    "             ,'Country(Poland)','Country(Portugal)','Country(Puerto-Rico)','Country(Scotland)','Country(South)','Country(Taiwan)'\n",
    "             ,'Country(Thailand)','Country(Trinadad&amp;Tobago)','Country(United-States)','Country(Vietnam)','Country(Yugoslavia)','Over50K','Y']\n",
    "# load datasetSex\n",
    "data = pd.read_csv(\"adult _data(N)_v1.csv\", header=None, names=col_names)"
   ]
  },
  {
   "cell_type": "code",
   "execution_count": 35,
   "metadata": {},
   "outputs": [
    {
     "data": {
      "text/html": [
       "<div>\n",
       "<style scoped>\n",
       "    .dataframe tbody tr th:only-of-type {\n",
       "        vertical-align: middle;\n",
       "    }\n",
       "\n",
       "    .dataframe tbody tr th {\n",
       "        vertical-align: top;\n",
       "    }\n",
       "\n",
       "    .dataframe thead th {\n",
       "        text-align: right;\n",
       "    }\n",
       "</style>\n",
       "<table border=\"1\" class=\"dataframe\">\n",
       "  <thead>\n",
       "    <tr style=\"text-align: right;\">\n",
       "      <th></th>\n",
       "      <th></th>\n",
       "      <th>Age</th>\n",
       "      <th>Workclass(Federal-gov)</th>\n",
       "      <th>Workclass(Local-gov)</th>\n",
       "      <th>Workclass(Private)</th>\n",
       "      <th>Workclass(Self-emp-inc)</th>\n",
       "      <th>Workclass(Self-emp-not-inc)</th>\n",
       "      <th>Workclass(State-gov)</th>\n",
       "      <th>Workclass(Without-pay)</th>\n",
       "      <th>Fnlwgt</th>\n",
       "      <th>Education</th>\n",
       "      <th>...</th>\n",
       "      <th>Country(Scotland)</th>\n",
       "      <th>Country(South)</th>\n",
       "      <th>Country(Taiwan)</th>\n",
       "      <th>Country(Thailand)</th>\n",
       "      <th>Country(Trinadad&amp;amp;Tobago)</th>\n",
       "      <th>Country(United-States)</th>\n",
       "      <th>Country(Vietnam)</th>\n",
       "      <th>Country(Yugoslavia)</th>\n",
       "      <th>Over50K</th>\n",
       "      <th>Y</th>\n",
       "    </tr>\n",
       "  </thead>\n",
       "  <tbody>\n",
       "    <tr>\n",
       "      <th>0.301370</th>\n",
       "      <th>0</th>\n",
       "      <td>0</td>\n",
       "      <td>0</td>\n",
       "      <td>0</td>\n",
       "      <td>0</td>\n",
       "      <td>1</td>\n",
       "      <td>0</td>\n",
       "      <td>0.043338</td>\n",
       "      <td>0.800000</td>\n",
       "      <td>0</td>\n",
       "      <td>0</td>\n",
       "      <td>...</td>\n",
       "      <td>0</td>\n",
       "      <td>0</td>\n",
       "      <td>0</td>\n",
       "      <td>0</td>\n",
       "      <td>0</td>\n",
       "      <td>1</td>\n",
       "      <td>0</td>\n",
       "      <td>0</td>\n",
       "      <td>0</td>\n",
       "      <td>40</td>\n",
       "    </tr>\n",
       "    <tr>\n",
       "      <th>0.452055</th>\n",
       "      <th>0</th>\n",
       "      <td>0</td>\n",
       "      <td>0</td>\n",
       "      <td>0</td>\n",
       "      <td>1</td>\n",
       "      <td>0</td>\n",
       "      <td>0</td>\n",
       "      <td>0.047277</td>\n",
       "      <td>0.800000</td>\n",
       "      <td>0</td>\n",
       "      <td>0</td>\n",
       "      <td>...</td>\n",
       "      <td>0</td>\n",
       "      <td>0</td>\n",
       "      <td>0</td>\n",
       "      <td>0</td>\n",
       "      <td>0</td>\n",
       "      <td>1</td>\n",
       "      <td>0</td>\n",
       "      <td>0</td>\n",
       "      <td>0</td>\n",
       "      <td>13</td>\n",
       "    </tr>\n",
       "    <tr>\n",
       "      <th>0.287671</th>\n",
       "      <th>0</th>\n",
       "      <td>0</td>\n",
       "      <td>1</td>\n",
       "      <td>0</td>\n",
       "      <td>0</td>\n",
       "      <td>0</td>\n",
       "      <td>0</td>\n",
       "      <td>0.137244</td>\n",
       "      <td>0.533333</td>\n",
       "      <td>1</td>\n",
       "      <td>0</td>\n",
       "      <td>...</td>\n",
       "      <td>0</td>\n",
       "      <td>0</td>\n",
       "      <td>0</td>\n",
       "      <td>0</td>\n",
       "      <td>0</td>\n",
       "      <td>1</td>\n",
       "      <td>0</td>\n",
       "      <td>0</td>\n",
       "      <td>0</td>\n",
       "      <td>40</td>\n",
       "    </tr>\n",
       "    <tr>\n",
       "      <th>0.493151</th>\n",
       "      <th>0</th>\n",
       "      <td>0</td>\n",
       "      <td>1</td>\n",
       "      <td>0</td>\n",
       "      <td>0</td>\n",
       "      <td>0</td>\n",
       "      <td>0</td>\n",
       "      <td>0.150212</td>\n",
       "      <td>0.400000</td>\n",
       "      <td>0</td>\n",
       "      <td>0</td>\n",
       "      <td>...</td>\n",
       "      <td>0</td>\n",
       "      <td>0</td>\n",
       "      <td>0</td>\n",
       "      <td>0</td>\n",
       "      <td>0</td>\n",
       "      <td>1</td>\n",
       "      <td>0</td>\n",
       "      <td>0</td>\n",
       "      <td>0</td>\n",
       "      <td>40</td>\n",
       "    </tr>\n",
       "    <tr>\n",
       "      <th>0.150685</th>\n",
       "      <th>0</th>\n",
       "      <td>0</td>\n",
       "      <td>1</td>\n",
       "      <td>0</td>\n",
       "      <td>0</td>\n",
       "      <td>0</td>\n",
       "      <td>0</td>\n",
       "      <td>0.220703</td>\n",
       "      <td>0.800000</td>\n",
       "      <td>0</td>\n",
       "      <td>0</td>\n",
       "      <td>...</td>\n",
       "      <td>0</td>\n",
       "      <td>0</td>\n",
       "      <td>0</td>\n",
       "      <td>0</td>\n",
       "      <td>0</td>\n",
       "      <td>0</td>\n",
       "      <td>0</td>\n",
       "      <td>0</td>\n",
       "      <td>0</td>\n",
       "      <td>40</td>\n",
       "    </tr>\n",
       "  </tbody>\n",
       "</table>\n",
       "<p>5 rows × 102 columns</p>\n",
       "</div>"
      ],
      "text/plain": [
       "            Age  Workclass(Federal-gov)  Workclass(Local-gov)  \\\n",
       "0.301370 0    0                       0                     0   \n",
       "0.452055 0    0                       0                     0   \n",
       "0.287671 0    0                       1                     0   \n",
       "0.493151 0    0                       1                     0   \n",
       "0.150685 0    0                       1                     0   \n",
       "\n",
       "            Workclass(Private)  Workclass(Self-emp-inc)  \\\n",
       "0.301370 0                   0                        1   \n",
       "0.452055 0                   1                        0   \n",
       "0.287671 0                   0                        0   \n",
       "0.493151 0                   0                        0   \n",
       "0.150685 0                   0                        0   \n",
       "\n",
       "            Workclass(Self-emp-not-inc)  Workclass(State-gov)  \\\n",
       "0.301370 0                            0              0.043338   \n",
       "0.452055 0                            0              0.047277   \n",
       "0.287671 0                            0              0.137244   \n",
       "0.493151 0                            0              0.150212   \n",
       "0.150685 0                            0              0.220703   \n",
       "\n",
       "            Workclass(Without-pay)  Fnlwgt  Education  ...  Country(Scotland)  \\\n",
       "0.301370 0                0.800000       0          0  ...                  0   \n",
       "0.452055 0                0.800000       0          0  ...                  0   \n",
       "0.287671 0                0.533333       1          0  ...                  0   \n",
       "0.493151 0                0.400000       0          0  ...                  0   \n",
       "0.150685 0                0.800000       0          0  ...                  0   \n",
       "\n",
       "            Country(South)  Country(Taiwan)  Country(Thailand)  \\\n",
       "0.301370 0               0                0                  0   \n",
       "0.452055 0               0                0                  0   \n",
       "0.287671 0               0                0                  0   \n",
       "0.493151 0               0                0                  0   \n",
       "0.150685 0               0                0                  0   \n",
       "\n",
       "            Country(Trinadad&amp;Tobago)  Country(United-States)  \\\n",
       "0.301370 0                             0                       1   \n",
       "0.452055 0                             0                       1   \n",
       "0.287671 0                             0                       1   \n",
       "0.493151 0                             0                       1   \n",
       "0.150685 0                             0                       0   \n",
       "\n",
       "            Country(Vietnam)  Country(Yugoslavia)  Over50K   Y  \n",
       "0.301370 0                 0                    0        0  40  \n",
       "0.452055 0                 0                    0        0  13  \n",
       "0.287671 0                 0                    0        0  40  \n",
       "0.493151 0                 0                    0        0  40  \n",
       "0.150685 0                 0                    0        0  40  \n",
       "\n",
       "[5 rows x 102 columns]"
      ]
     },
     "execution_count": 35,
     "metadata": {},
     "output_type": "execute_result"
    }
   ],
   "source": [
    "data.head()"
   ]
  },
  {
   "cell_type": "code",
   "execution_count": 36,
   "metadata": {},
   "outputs": [
    {
     "data": {
      "text/plain": [
       "0.301370  0    40\n",
       "0.452055  0    13\n",
       "0.287671  0    40\n",
       "0.493151  0    40\n",
       "0.150685  0    40\n",
       "               ..\n",
       "0.136986  0    38\n",
       "0.315068  0    40\n",
       "0.561644  0    40\n",
       "0.068493  0    20\n",
       "0.479452  0    40\n",
       "Name: Y, Length: 30162, dtype: int64"
      ]
     },
     "execution_count": 36,
     "metadata": {},
     "output_type": "execute_result"
    }
   ],
   "source": [
    "from tkinter import Y\n",
    "feature_cols = ['Age','Workclass(Federal-gov)','Workclass(Local-gov)','Workclass(Private)','Workclass(Self-emp-inc)','Workclass(Self-emp-not-inc)'\n",
    "             ,'Workclass(State-gov)','Workclass(Without-pay)','Fnlwgt','Education','MSRS(Divorced_Not-in-family)','MSRS(Divorced_Other-relative)'\n",
    "             ,'MSRS(Divorced_Own-child)','MSRS(Divorced_Unmarried)','MSRS(Married-AF-spouse_Husband)','MSRS(Married-AF-spouse_Other-relative)'\n",
    "             ,'MSRS(Married-AF-spouse_Own-child)','MSRS(Married-AF-spouse_Wife)','MSRS(Married-civ-spouse_Husband)','MSRS(Married-civ-spouse_Not-in-family)'\n",
    "             ,'MSRS(Married-civ-spouse_Other-relative)','MSRS(Married-civ-spouse_Own-child)','MSRS(Married-civ-spouse_Wife)'\n",
    "             ,'MSRS(Married-spouse-absent_Not-in-family)','MSRS(Married-spouse-absent_Other-relative)','MSRS(Married-spouse-absent_Own-child)'\n",
    "             ,'MSRS(Married-spouse-absent_Unmarried)','MSRS(Never-married_Not-in-family)','MSRS(Never-married_Other-relative)'\n",
    "             ,'MSRS(Never-married_Own-child)','MSRS(Never-married_Unmarried)','MSRS(Separated_Not-in-family)','MSRS(Separated_Other-relative)'\n",
    "             ,'MSRS(Separated_Own-child),MSRS(Separated_Unmarried)','MSRS(Widowed_Not-in-family)','MSRS(Widowed_Other-relative)','MSRS(Widowed_Own-child)'\n",
    "             ,'MSRS(Widowed_Unmarried)','Occupation(Adm-clerical)','Occupation(Armed-Forces)','Occupation(Craft-repair)','Occupation(Exec-managerial)','Occupation(Farming-fishing)'\n",
    "             ,'Occupation(Handlers-cleaners)','Occupation(Machine-op-inspct)','Occupation(Other-service)','Occupation(Priv-house-serv)','Occupation(Prof-specialty)'\n",
    "             ,'Occupation(Protective-serv)','Occupation(Sales)','Occupation(Tech-support)','Occupation(Transport-moving)','Race(Amer-Indian-Eskimo)','Race(Asian-Pac-Islander)'\n",
    "             ,'Race(Black)','Race(Other)','Race(White)','Sex','Gain','Loss','Country(Cambodia)','Country(Canada)','Country(China)','Country(Columbia)'\n",
    "             ,'Country(Cuba)','Country(Dominican-Republic)','Country(Ecuador)','Country(El-Salvador)','Country(England)','Country(France)'\n",
    "             ,'Country(Germany)','Country(Greece)','Country(Guatemala)','Country(Haiti)','Country(Holand-Netherlands)','Country(Honduras)'\n",
    "             ,'Country(Hong)','Country(Hungary)','Country(India)','Country(Iran)','Country(Ireland)','Country(Italy)','Country(Jamaica)'\n",
    "             ,'Country(Japan)','Country(Laos)','Country(Mexico)','Country(Nicaragua)','Country(Outlying-US(Guam-USVI-etc))','Country(Peru),Country(Philippines)'\n",
    "             ,'Country(Poland)','Country(Portugal)','Country(Puerto-Rico)','Country(Scotland)','Country(South)','Country(Taiwan)'\n",
    "             ,'Country(Thailand)','Country(Trinadad&amp;Tobago)','Country(United-States)','Country(Vietnam)','Country(Yugoslavia)','Over50K']\n",
    "X = data[feature_cols] # Features\n",
    "y = data.Y # Target variable\n",
    "y"
   ]
  },
  {
   "cell_type": "code",
   "execution_count": 4,
   "metadata": {},
   "outputs": [
    {
     "ename": "NameError",
     "evalue": "name 'data' is not defined",
     "output_type": "error",
     "traceback": [
      "\u001b[1;31m---------------------------------------------------------------------------\u001b[0m",
      "\u001b[1;31mNameError\u001b[0m                                 Traceback (most recent call last)",
      "\u001b[1;32mc:\\Users\\USER\\Desktop\\bank\\adulttrainKNN_editbycgw.ipynb Cell 11\u001b[0m in \u001b[0;36m<cell line: 1>\u001b[1;34m()\u001b[0m\n\u001b[1;32m----> <a href='vscode-notebook-cell:/c%3A/Users/USER/Desktop/bank/adulttrainKNN_editbycgw.ipynb#X13sZmlsZQ%3D%3D?line=0'>1</a>\u001b[0m data2 \u001b[39m=\u001b[39m preprocessing\u001b[39m.\u001b[39mnormalize(data, norm\u001b[39m=\u001b[39m \u001b[39m'\u001b[39m\u001b[39ml2\u001b[39m\u001b[39m'\u001b[39m)\n\u001b[0;32m      <a href='vscode-notebook-cell:/c%3A/Users/USER/Desktop/bank/adulttrainKNN_editbycgw.ipynb#X13sZmlsZQ%3D%3D?line=1'>2</a>\u001b[0m scaler \u001b[39m=\u001b[39m MinMaxScaler()\n\u001b[0;32m      <a href='vscode-notebook-cell:/c%3A/Users/USER/Desktop/bank/adulttrainKNN_editbycgw.ipynb#X13sZmlsZQ%3D%3D?line=2'>3</a>\u001b[0m data3 \u001b[39m=\u001b[39m scaler\u001b[39m.\u001b[39mfit(data)\n",
      "\u001b[1;31mNameError\u001b[0m: name 'data' is not defined"
     ]
    }
   ],
   "source": [
    "data2 = preprocessing.normalize(data, norm= 'l2')\n",
    "scaler = MinMaxScaler()\n",
    "data3 = scaler.fit(data)\n",
    "data3 = scaler.transform(data)"
   ]
  },
  {
   "cell_type": "code",
   "execution_count": 38,
   "metadata": {},
   "outputs": [],
   "source": [
    "X_train, X_test, y_train, y_test = train_test_split(X, y)"
   ]
  },
  {
   "cell_type": "code",
   "execution_count": 39,
   "metadata": {},
   "outputs": [
    {
     "data": {
      "text/plain": [
       "(22621, 101)"
      ]
     },
     "execution_count": 39,
     "metadata": {},
     "output_type": "execute_result"
    }
   ],
   "source": [
    "X_train.shape"
   ]
  },
  {
   "cell_type": "code",
   "execution_count": null,
   "metadata": {},
   "outputs": [],
   "source": [
    "featureName=[]#特徵欄位名稱\n",
    "for f in range(0,len(X_train[0])):\n",
    "    featureName.append(X_train[0][f])\n",
    "    \n",
    "trainFeature=[]#train特徵\n",
    "trainClass=[]#train類別\n",
    "for i in range(1,len(X_train)):\n",
    "    trainClass.append(X_train[i][len(X_train[i])-1])\n",
    "    rowData=[]\n",
    "    for r in range(0,len(X_train[i])-1):\n",
    "        rowData.append(X_train[i][r])\n",
    "    trainFeature.append(rowData)\n",
    "import math\n",
    "testFeature=[]#test特徵\n",
    "testClass=[]#test類別\n",
    "for i in range(1,len(X_test)):\n",
    "    testClass.append(X_test[i][len(X_test[i])-1])\n",
    "    rowData=[]\n",
    "    for r in range(0,len(X_test[i])-1):\n",
    "        rowData.append(X_test[i][r])\n",
    "    testFeature.append(rowData)"
   ]
  },
  {
   "cell_type": "code",
   "execution_count": 5,
   "metadata": {},
   "outputs": [],
   "source": [
    "#training\n",
    "trainingPath=r'adult _data(N)_v1.csv'\n",
    "trainingData=[]\n",
    "import csv\n",
    "with open(trainingPath, \"r\", newline=\"\") as csvData:\n",
    "  reader = csv.reader(csvData)\n",
    "  for r in reader:\n",
    "     trainingData.append(r)\n",
    "Xtraining=[]\n",
    "ytraining=[]\n",
    "#Feature Label\n",
    "feature=[]\n",
    "#Pure Data\n",
    "pureData=[]\n",
    "for r in range(0,len(trainingData)):\n",
    "    #Row Data\n",
    "    rowData=[]\n",
    "    for c in range(0,len(trainingData[r])):\n",
    "        rowData.append(trainingData[r][c])\n",
    "    if(r==0):\n",
    "        feature=rowData\n",
    "    else:\n",
    "        pureData.append(rowData)\n",
    "X_train=[]\n",
    "y_train=[]\n",
    "for r in range(0,len(pureData)):\n",
    "    #Row Data\n",
    "    rowData=[]\n",
    "    for c in range(0,len(pureData[r])-1):\n",
    "        rowData.append(float(pureData[r][c]))\n",
    "    X_train.append(rowData)\n",
    "    y_train.append(float(pureData[r][len(pureData[r])-1]))\n",
    "#test\n",
    "testPath=r'adult _test(N)_v1.csv'\n",
    "testData=[]\n",
    "import csv\n",
    "with open(testPath, \"r\", newline=\"\") as csvData:\n",
    "  reader = csv.reader(csvData)\n",
    "  for r in reader:\n",
    "     testData.append(r)\n",
    "#Pure Data\n",
    "pureData=[]\n",
    "for r in range(0,len(testData)):\n",
    "    #Row Data\n",
    "    rowData=[]\n",
    "    for c in range(0,len(testData[r])):\n",
    "        rowData.append(testData[r][c])\n",
    "    if(r!=0):\n",
    "        pureData.append(rowData)\n",
    "X_test=[]\n",
    "y_test=[]\n",
    "for r in range(0,len(pureData)):\n",
    "    #Row Data\n",
    "    rowData=[]\n",
    "    for c in range(0,len(pureData[r])-1):\n",
    "        rowData.append(float(pureData[r][c]))\n",
    "    X_test.append(rowData)\n",
    "    y_test.append(float(pureData[r][len(pureData[r])-1]))"
   ]
  },
  {
   "cell_type": "code",
   "execution_count": 26,
   "metadata": {},
   "outputs": [
    {
     "name": "stdout",
     "output_type": "stream",
     "text": [
      "MAE: 8.597582840826083\n",
      "RMSE : 12.42\n",
      "MAPE: 0.304671585630099\n"
     ]
    }
   ],
   "source": [
    "knn = KNeighborsRegressor(n_neighbors=2)\n",
    "knn.fit(X_train,y_train)\n",
    "y_pred = knn.predict(X_test)\n",
    "print(\"MAE:\",mean_absolute_error(y_test,y_pred))\n",
    "print(\"RMSE : %.4g\" % mean_squared_error(y_test, y_pred,squared=False))\n",
    "print(\"MAPE:\",mean_absolute_percentage_error(y_test,y_pred))"
   ]
  },
  {
   "cell_type": "code",
   "execution_count": 27,
   "metadata": {},
   "outputs": [
    {
     "name": "stdout",
     "output_type": "stream",
     "text": [
      "0.6440758936277602\n",
      "-0.05961525631256892\n"
     ]
    }
   ],
   "source": [
    "print(knn.score(X_train,y_train))\n",
    "print(knn.score(X_test,y_test))"
   ]
  },
  {
   "cell_type": "code",
   "execution_count": 13,
   "metadata": {},
   "outputs": [
    {
     "ename": "ValueError",
     "evalue": "Unknown label type: 'continuous'",
     "output_type": "error",
     "traceback": [
      "\u001b[1;31m---------------------------------------------------------------------------\u001b[0m",
      "\u001b[1;31mValueError\u001b[0m                                Traceback (most recent call last)",
      "\u001b[1;32mc:\\Users\\USER\\Desktop\\bank\\bankKNN.ipynb Cell 13\u001b[0m in \u001b[0;36m<cell line: 3>\u001b[1;34m()\u001b[0m\n\u001b[0;32m      <a href='vscode-notebook-cell:/c%3A/Users/USER/Desktop/bank/bankKNN.ipynb#X20sZmlsZQ%3D%3D?line=2'>3</a>\u001b[0m \u001b[39mfor\u001b[39;00m i \u001b[39min\u001b[39;00m \u001b[39mrange\u001b[39m(\u001b[39m1\u001b[39m,\u001b[39m60\u001b[39m):\n\u001b[0;32m      <a href='vscode-notebook-cell:/c%3A/Users/USER/Desktop/bank/bankKNN.ipynb#X20sZmlsZQ%3D%3D?line=3'>4</a>\u001b[0m   knn \u001b[39m=\u001b[39m KNeighborsClassifier(n_neighbors\u001b[39m=\u001b[39mi)\n\u001b[1;32m----> <a href='vscode-notebook-cell:/c%3A/Users/USER/Desktop/bank/bankKNN.ipynb#X20sZmlsZQ%3D%3D?line=4'>5</a>\u001b[0m   knn\u001b[39m.\u001b[39;49mfit(X_train,y_train)\n\u001b[0;32m      <a href='vscode-notebook-cell:/c%3A/Users/USER/Desktop/bank/bankKNN.ipynb#X20sZmlsZQ%3D%3D?line=5'>6</a>\u001b[0m   pred_i \u001b[39m=\u001b[39m knn\u001b[39m.\u001b[39mpredict(X_test)\n\u001b[0;32m      <a href='vscode-notebook-cell:/c%3A/Users/USER/Desktop/bank/bankKNN.ipynb#X20sZmlsZQ%3D%3D?line=6'>7</a>\u001b[0m   error_rate\u001b[39m.\u001b[39mappend(np\u001b[39m.\u001b[39mmean(pred_i \u001b[39m!=\u001b[39m y_test))\n",
      "File \u001b[1;32mc:\\Users\\USER\\anaconda3\\lib\\site-packages\\sklearn\\neighbors\\_classification.py:198\u001b[0m, in \u001b[0;36mKNeighborsClassifier.fit\u001b[1;34m(self, X, y)\u001b[0m\n\u001b[0;32m    179\u001b[0m \u001b[39m\"\"\"Fit the k-nearest neighbors classifier from the training dataset.\u001b[39;00m\n\u001b[0;32m    180\u001b[0m \n\u001b[0;32m    181\u001b[0m \u001b[39mParameters\u001b[39;00m\n\u001b[1;32m   (...)\u001b[0m\n\u001b[0;32m    194\u001b[0m \u001b[39m    The fitted k-nearest neighbors classifier.\u001b[39;00m\n\u001b[0;32m    195\u001b[0m \u001b[39m\"\"\"\u001b[39;00m\n\u001b[0;32m    196\u001b[0m \u001b[39mself\u001b[39m\u001b[39m.\u001b[39mweights \u001b[39m=\u001b[39m _check_weights(\u001b[39mself\u001b[39m\u001b[39m.\u001b[39mweights)\n\u001b[1;32m--> 198\u001b[0m \u001b[39mreturn\u001b[39;00m \u001b[39mself\u001b[39;49m\u001b[39m.\u001b[39;49m_fit(X, y)\n",
      "File \u001b[1;32mc:\\Users\\USER\\anaconda3\\lib\\site-packages\\sklearn\\neighbors\\_base.py:420\u001b[0m, in \u001b[0;36mNeighborsBase._fit\u001b[1;34m(self, X, y)\u001b[0m\n\u001b[0;32m    417\u001b[0m \u001b[39melse\u001b[39;00m:\n\u001b[0;32m    418\u001b[0m     \u001b[39mself\u001b[39m\u001b[39m.\u001b[39moutputs_2d_ \u001b[39m=\u001b[39m \u001b[39mTrue\u001b[39;00m\n\u001b[1;32m--> 420\u001b[0m check_classification_targets(y)\n\u001b[0;32m    421\u001b[0m \u001b[39mself\u001b[39m\u001b[39m.\u001b[39mclasses_ \u001b[39m=\u001b[39m []\n\u001b[0;32m    422\u001b[0m \u001b[39mself\u001b[39m\u001b[39m.\u001b[39m_y \u001b[39m=\u001b[39m np\u001b[39m.\u001b[39mempty(y\u001b[39m.\u001b[39mshape, dtype\u001b[39m=\u001b[39m\u001b[39mint\u001b[39m)\n",
      "File \u001b[1;32mc:\\Users\\USER\\anaconda3\\lib\\site-packages\\sklearn\\utils\\multiclass.py:197\u001b[0m, in \u001b[0;36mcheck_classification_targets\u001b[1;34m(y)\u001b[0m\n\u001b[0;32m    189\u001b[0m y_type \u001b[39m=\u001b[39m type_of_target(y)\n\u001b[0;32m    190\u001b[0m \u001b[39mif\u001b[39;00m y_type \u001b[39mnot\u001b[39;00m \u001b[39min\u001b[39;00m [\n\u001b[0;32m    191\u001b[0m     \u001b[39m\"\u001b[39m\u001b[39mbinary\u001b[39m\u001b[39m\"\u001b[39m,\n\u001b[0;32m    192\u001b[0m     \u001b[39m\"\u001b[39m\u001b[39mmulticlass\u001b[39m\u001b[39m\"\u001b[39m,\n\u001b[1;32m   (...)\u001b[0m\n\u001b[0;32m    195\u001b[0m     \u001b[39m\"\u001b[39m\u001b[39mmultilabel-sequences\u001b[39m\u001b[39m\"\u001b[39m,\n\u001b[0;32m    196\u001b[0m ]:\n\u001b[1;32m--> 197\u001b[0m     \u001b[39mraise\u001b[39;00m \u001b[39mValueError\u001b[39;00m(\u001b[39m\"\u001b[39m\u001b[39mUnknown label type: \u001b[39m\u001b[39m%r\u001b[39;00m\u001b[39m\"\u001b[39m \u001b[39m%\u001b[39m y_type)\n",
      "\u001b[1;31mValueError\u001b[0m: Unknown label type: 'continuous'"
     ]
    }
   ],
   "source": [
    "# error_rate = []\n",
    "\n",
    "# for i in range(1,60):\n",
    "#   knn = KNeighborsClassifier(n_neighbors=i)\n",
    "#   knn.fit(X_train,y_train)\n",
    "#   pred_i = knn.predict(X_test)\n",
    "#   error_rate.append(np.mean(pred_i != y_test))"
   ]
  },
  {
   "cell_type": "code",
   "execution_count": null,
   "metadata": {},
   "outputs": [],
   "source": [
    "plt.figure(figsize=(10,6))\n",
    "plt.plot(range(1,60),error_rate,color='blue',linestyle='dashed',marker='o',markerfacecolor='red',markersize=10)\n",
    "plt.title('Error Rate vs. K Value')\n",
    "plt.xlabel('K')\n",
    "plt.ylabel('Error Rate')"
   ]
  },
  {
   "cell_type": "code",
   "execution_count": 28,
   "metadata": {},
   "outputs": [
    {
     "name": "stdout",
     "output_type": "stream",
     "text": [
      "score_array [0.527180132257317, 0.42373348059558746, 0.3806768628357535, 0.3543149898366931, 0.33769878714562074, 0.3257072248190772, 0.31587853952420586, 0.30808065219637226, 0.30108134423858945]\n",
      " \n",
      "score_array_MAX: 0.527180132257317\n",
      "----------------------------------------------------------------------------------------------------------\n",
      "score_array_test [0.03289570712058987, 0.13102791931436863, 0.17374362762370987, 0.18959696678220983, 0.20087958125554461, 0.20911400754951903, 0.21438794123499605, 0.21477691762520834, 0.21607356394022048]\n",
      " \n",
      "score_array_test_MAX: 0.21607356394022048\n"
     ]
    },
    {
     "data": {
      "text/plain": [
       "Text(0, 0.5, 'score_array')"
      ]
     },
     "execution_count": 28,
     "metadata": {},
     "output_type": "execute_result"
    },
    {
     "data": {
      "image/png": "[encoded data removed]",
      "text/plain": [
       "<Figure size 720x432 with 1 Axes>"
      ]
     },
     "metadata": {
      "needs_background": "light"
     },
     "output_type": "display_data"
    }
   ],
   "source": [
    "score_array= []\n",
    "score_array_test= []\n",
    "xArray=[]\n",
    "for i in range(3,20):   \n",
    "    if(i%2==1):\n",
    "        xArray.append(i)\n",
    "        y_pred_knn = KNeighborsRegressor(n_neighbors=i)\n",
    "        y_pred_knn.fit(X_train, y_train)\n",
    "        score_val = y_pred_knn.score(X_train, y_train)\n",
    "        score_test = y_pred_knn.score(X_test, y_test)\n",
    "        score_array.append(score_val)\n",
    "        score_array_test.append(score_test)\n",
    "\n",
    "print(\"score_array\",score_array)\n",
    "print(\" \")\n",
    "print(\"score_array_MAX:\", np.max(score_array))\n",
    "print(\"----------------------------------------------------------------------------------------------------------\")\n",
    "print(\"score_array_test\", score_array_test)\n",
    "print(\" \")\n",
    "print(\"score_array_test_MAX:\", np.max(score_array_test))\n",
    "plt.figure(figsize=(10,6))\n",
    "plt.plot(xArray,score_array,score_array_test,color='blue',linestyle='dashed',marker='o',markerfacecolor='red',markersize=10)\n",
    "plt.title('score_array vs. score_array_test')\n",
    "plt.xlabel('K')\n",
    "plt.ylabel('score_array')"
   ]
  },
  {
   "cell_type": "code",
   "execution_count": null,
   "metadata": {},
   "outputs": [],
   "source": []
  }
 ],
 "metadata": {
  "kernelspec": {
   "display_name": "Python 3.9.12 ('base')",
   "language": "python",
   "name": "python3"
  },
  "language_info": {
   "codemirror_mode": {
    "name": "ipython",
    "version": 3
   },
   "file_extension": ".py",
   "mimetype": "text/x-python",
   "name": "python",
   "nbconvert_exporter": "python",
   "pygments_lexer": "ipython3",
   "version": "3.9.12"
  },
  "orig_nbformat": 4,
  "vscode": {
   "interpreter": {
    "hash": "263930470851f494f0ed2879c35b57985588df20f9e529b86e97dd5eb9ddc466"
   }
  }
 },
 "nbformat": 4,
 "nbformat_minor": 2
}
