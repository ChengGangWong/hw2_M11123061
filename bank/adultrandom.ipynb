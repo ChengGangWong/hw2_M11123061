{
 "cells": [
  {
   "cell_type": "code",
   "execution_count": 1,
   "metadata": {},
   "outputs": [
    {
     "name": "stdout",
     "output_type": "stream",
     "text": [
      "Requirement already satisfied: pandas in c:\\users\\user\\anaconda3\\lib\\site-packages (1.4.2)\n",
      "Requirement already satisfied: numpy>=1.18.5 in c:\\users\\user\\anaconda3\\lib\\site-packages (from pandas) (1.21.5)\n",
      "Requirement already satisfied: python-dateutil>=2.8.1 in c:\\users\\user\\anaconda3\\lib\\site-packages (from pandas) (2.8.2)\n",
      "Requirement already satisfied: pytz>=2020.1 in c:\\users\\user\\anaconda3\\lib\\site-packages (from pandas) (2021.3)\n",
      "Requirement already satisfied: six>=1.5 in c:\\users\\user\\anaconda3\\lib\\site-packages (from python-dateutil>=2.8.1->pandas) (1.16.0)\n",
      "Note: you may need to restart the kernel to use updated packages.\n"
     ]
    }
   ],
   "source": [
    "pip install pandas"
   ]
  },
  {
   "cell_type": "code",
   "execution_count": 2,
   "metadata": {},
   "outputs": [
    {
     "name": "stdout",
     "output_type": "stream",
     "text": [
      "Requirement already satisfied: graphviz in c:\\users\\user\\anaconda3\\lib\\site-packages (0.20.1)\n",
      "Note: you may need to restart the kernel to use updated packages.\n"
     ]
    }
   ],
   "source": [
    "pip install graphviz"
   ]
  },
  {
   "cell_type": "code",
   "execution_count": 3,
   "metadata": {},
   "outputs": [
    {
     "name": "stdout",
     "output_type": "stream",
     "text": [
      "Requirement already satisfied: pydotplus in c:\\users\\user\\anaconda3\\lib\\site-packages (2.0.2)\n",
      "Requirement already satisfied: pyparsing>=2.0.1 in c:\\users\\user\\anaconda3\\lib\\site-packages (from pydotplus) (3.0.4)\n",
      "Note: you may need to restart the kernel to use updated packages.\n"
     ]
    }
   ],
   "source": [
    "pip install pydotplus"
   ]
  },
  {
   "cell_type": "code",
   "execution_count": 9,
   "metadata": {},
   "outputs": [],
   "source": [
    "from sklearn.ensemble import RandomForestClassifier,RandomForestRegressor\n",
    "from sklearn import svm\n",
    "from sklearn import preprocessing\n",
    "from sklearn.metrics import mean_absolute_error, mean_squared_error, mean_absolute_percentage_error\n",
    "from sklearn.preprocessing import OneHotEncoder\n",
    "from sklearn.preprocessing import LabelEncoder\n",
    "from sklearn.model_selection import train_test_split\n",
    "from sklearn.neighbors import KNeighborsClassifier\n",
    "from sklearn.preprocessing import MinMaxScaler\n",
    "from sklearn.preprocessing import LabelEncoder\n",
    "from sklearn import datasets\n",
    "from sklearn import metrics\n",
    "import matplotlib.pyplot as plt\n",
    "import numpy as np\n",
    "import pandas as pd"
   ]
  },
  {
   "cell_type": "code",
   "execution_count": 11,
   "metadata": {},
   "outputs": [],
   "source": [
    "col_names = ['Age','JOB_admin.','JOB_blue-collar','JOB_entrepreneur','JOB_housemaid','JOB_management','JOB_retired','JOB_self-employed',\n",
    "                'JOB_services','JOB_student','JOB_technician','JOB_unemployed','JOB_unknown','Marital_divorced','Marital_married','Marital_single',\n",
    "                'Marital_unknown','Education_basic.4y','Education_basic.6y','Education_basic.9y','Education_high.school','Education_illiterate',\n",
    "                'Education_professional.course','Education_university.degree','Education_unknown','Creditviolation_no','Creditviolation_unknown',\n",
    "                'Creditviolation_yes','Mortgage_no','Mortgage_unknown','Mortgage_yes','Loan_no','Loan_unknown','Loan_yes','Contact',\n",
    "                'Month_CPI_CCI_1','Month_CPI_CCI_2','Month_CPI_CCI_3','Month_CPI_CCI_4','Month_CPI_CCI_5','Month_CPI_CCI_6','Month_CPI_CCI_7',\n",
    "                'Month_CPI_CCI_8','Month_CPI_CCI_9','Month_CPI_CCI_10','Month_CPI_CCI_11','Month_CPI_CCI_12','Month_CPI_CCI_13',\n",
    "                'Month_CPI_CCI_14','Month_CPI_CCI_15','Month_CPI_CCI_16','Month_CPI_CCI_17','Month_CPI_CCI_18','Month_CPI_CCI_19',\n",
    "                'Month_CPI_CCI_20','Month_CPI_CCI_21','Month_CPI_CCI_22','Month_CPI_CCI_23','Month_CPI_CCI_24','Month_CPI_CCI_25',\n",
    "                'Month_CPI_CCI_26','DOW_mon','DOW_tue','DOW_wed','DOW_thu','DOW_fri','Duration','Campaign','Pdays_0','Pdays_1','Pdays_2',\n",
    "                'Pdays_3','Pdays_4','Pdays_5','Pdays_6','Pdays_7','Pdays_8','Pdays_9','Pdays_10','Pdays_11','Pdays_12','Pdays_13','Pdays_14',\n",
    "                'Pdays_15','Pdays_16','Pdays_17','Pdays_18','Pdays_19','Pdays_20','Pdays_21','Pdays_22','Pdays_25','Pdays_26','Pdays_27',\n",
    "                'Pdays_999','Previous','Poutcome_failure','Poutcome_nonexistent','Poutcome_success','EVR','NE','Subscription','Y']\n",
    "# load datasetSex\n",
    "data = pd.read_csv(\"Bank_Normalization_New_v2.csv\", header=None, names=col_names)"
   ]
  },
  {
   "cell_type": "code",
   "execution_count": 12,
   "metadata": {},
   "outputs": [
    {
     "data": {
      "text/html": [
       "<div>\n",
       "<style scoped>\n",
       "    .dataframe tbody tr th:only-of-type {\n",
       "        vertical-align: middle;\n",
       "    }\n",
       "\n",
       "    .dataframe tbody tr th {\n",
       "        vertical-align: top;\n",
       "    }\n",
       "\n",
       "    .dataframe thead th {\n",
       "        text-align: right;\n",
       "    }\n",
       "</style>\n",
       "<table border=\"1\" class=\"dataframe\">\n",
       "  <thead>\n",
       "    <tr style=\"text-align: right;\">\n",
       "      <th></th>\n",
       "      <th>Age</th>\n",
       "      <th>JOB_admin.</th>\n",
       "      <th>JOB_blue-collar</th>\n",
       "      <th>JOB_entrepreneur</th>\n",
       "      <th>JOB_housemaid</th>\n",
       "      <th>JOB_management</th>\n",
       "      <th>JOB_retired</th>\n",
       "      <th>JOB_self-employed</th>\n",
       "      <th>JOB_services</th>\n",
       "      <th>JOB_student</th>\n",
       "      <th>...</th>\n",
       "      <th>Pdays_27</th>\n",
       "      <th>Pdays_999</th>\n",
       "      <th>Previous</th>\n",
       "      <th>Poutcome_failure</th>\n",
       "      <th>Poutcome_nonexistent</th>\n",
       "      <th>Poutcome_success</th>\n",
       "      <th>EVR</th>\n",
       "      <th>NE</th>\n",
       "      <th>Subscription</th>\n",
       "      <th>Y</th>\n",
       "    </tr>\n",
       "  </thead>\n",
       "  <tbody>\n",
       "    <tr>\n",
       "      <th>0</th>\n",
       "      <td>0.271605</td>\n",
       "      <td>0</td>\n",
       "      <td>0</td>\n",
       "      <td>0</td>\n",
       "      <td>0</td>\n",
       "      <td>0</td>\n",
       "      <td>0</td>\n",
       "      <td>1</td>\n",
       "      <td>0</td>\n",
       "      <td>0</td>\n",
       "      <td>...</td>\n",
       "      <td>0</td>\n",
       "      <td>1</td>\n",
       "      <td>0.0</td>\n",
       "      <td>0</td>\n",
       "      <td>1</td>\n",
       "      <td>0</td>\n",
       "      <td>0.9375</td>\n",
       "      <td>0.859735</td>\n",
       "      <td>0</td>\n",
       "      <td>4857</td>\n",
       "    </tr>\n",
       "    <tr>\n",
       "      <th>1</th>\n",
       "      <td>0.469136</td>\n",
       "      <td>0</td>\n",
       "      <td>0</td>\n",
       "      <td>0</td>\n",
       "      <td>0</td>\n",
       "      <td>0</td>\n",
       "      <td>0</td>\n",
       "      <td>0</td>\n",
       "      <td>0</td>\n",
       "      <td>0</td>\n",
       "      <td>...</td>\n",
       "      <td>0</td>\n",
       "      <td>1</td>\n",
       "      <td>0.0</td>\n",
       "      <td>0</td>\n",
       "      <td>1</td>\n",
       "      <td>0</td>\n",
       "      <td>0.9375</td>\n",
       "      <td>0.859735</td>\n",
       "      <td>0</td>\n",
       "      <td>4857</td>\n",
       "    </tr>\n",
       "    <tr>\n",
       "      <th>2</th>\n",
       "      <td>0.395062</td>\n",
       "      <td>0</td>\n",
       "      <td>0</td>\n",
       "      <td>1</td>\n",
       "      <td>0</td>\n",
       "      <td>0</td>\n",
       "      <td>0</td>\n",
       "      <td>0</td>\n",
       "      <td>0</td>\n",
       "      <td>0</td>\n",
       "      <td>...</td>\n",
       "      <td>0</td>\n",
       "      <td>1</td>\n",
       "      <td>0.0</td>\n",
       "      <td>0</td>\n",
       "      <td>1</td>\n",
       "      <td>0</td>\n",
       "      <td>0.9375</td>\n",
       "      <td>0.859735</td>\n",
       "      <td>1</td>\n",
       "      <td>4857</td>\n",
       "    </tr>\n",
       "    <tr>\n",
       "      <th>3</th>\n",
       "      <td>0.506173</td>\n",
       "      <td>0</td>\n",
       "      <td>0</td>\n",
       "      <td>0</td>\n",
       "      <td>0</td>\n",
       "      <td>0</td>\n",
       "      <td>0</td>\n",
       "      <td>0</td>\n",
       "      <td>0</td>\n",
       "      <td>0</td>\n",
       "      <td>...</td>\n",
       "      <td>0</td>\n",
       "      <td>1</td>\n",
       "      <td>0.0</td>\n",
       "      <td>0</td>\n",
       "      <td>1</td>\n",
       "      <td>0</td>\n",
       "      <td>0.9375</td>\n",
       "      <td>0.859735</td>\n",
       "      <td>0</td>\n",
       "      <td>4857</td>\n",
       "    </tr>\n",
       "    <tr>\n",
       "      <th>4</th>\n",
       "      <td>0.345679</td>\n",
       "      <td>0</td>\n",
       "      <td>1</td>\n",
       "      <td>0</td>\n",
       "      <td>0</td>\n",
       "      <td>0</td>\n",
       "      <td>0</td>\n",
       "      <td>0</td>\n",
       "      <td>0</td>\n",
       "      <td>0</td>\n",
       "      <td>...</td>\n",
       "      <td>0</td>\n",
       "      <td>1</td>\n",
       "      <td>0.0</td>\n",
       "      <td>0</td>\n",
       "      <td>1</td>\n",
       "      <td>0</td>\n",
       "      <td>0.9375</td>\n",
       "      <td>0.859735</td>\n",
       "      <td>1</td>\n",
       "      <td>4857</td>\n",
       "    </tr>\n",
       "  </tbody>\n",
       "</table>\n",
       "<p>5 rows × 103 columns</p>\n",
       "</div>"
      ],
      "text/plain": [
       "        Age  JOB_admin.  JOB_blue-collar  JOB_entrepreneur  JOB_housemaid  \\\n",
       "0  0.271605           0                0                 0              0   \n",
       "1  0.469136           0                0                 0              0   \n",
       "2  0.395062           0                0                 1              0   \n",
       "3  0.506173           0                0                 0              0   \n",
       "4  0.345679           0                1                 0              0   \n",
       "\n",
       "   JOB_management  JOB_retired  JOB_self-employed  JOB_services  JOB_student  \\\n",
       "0               0            0                  1             0            0   \n",
       "1               0            0                  0             0            0   \n",
       "2               0            0                  0             0            0   \n",
       "3               0            0                  0             0            0   \n",
       "4               0            0                  0             0            0   \n",
       "\n",
       "   ...  Pdays_27  Pdays_999  Previous  Poutcome_failure  Poutcome_nonexistent  \\\n",
       "0  ...         0          1       0.0                 0                     1   \n",
       "1  ...         0          1       0.0                 0                     1   \n",
       "2  ...         0          1       0.0                 0                     1   \n",
       "3  ...         0          1       0.0                 0                     1   \n",
       "4  ...         0          1       0.0                 0                     1   \n",
       "\n",
       "   Poutcome_success     EVR        NE  Subscription     Y  \n",
       "0                 0  0.9375  0.859735             0  4857  \n",
       "1                 0  0.9375  0.859735             0  4857  \n",
       "2                 0  0.9375  0.859735             1  4857  \n",
       "3                 0  0.9375  0.859735             0  4857  \n",
       "4                 0  0.9375  0.859735             1  4857  \n",
       "\n",
       "[5 rows x 103 columns]"
      ]
     },
     "execution_count": 12,
     "metadata": {},
     "output_type": "execute_result"
    }
   ],
   "source": [
    "data.head()"
   ]
  },
  {
   "cell_type": "code",
   "execution_count": 13,
   "metadata": {},
   "outputs": [
    {
     "data": {
      "text/plain": [
       "0        4857\n",
       "1        4857\n",
       "2        4857\n",
       "3        4857\n",
       "4        4857\n",
       "         ... \n",
       "41183    1028\n",
       "41184    1028\n",
       "41185    1028\n",
       "41186    1028\n",
       "41187    1028\n",
       "Name: Y, Length: 41188, dtype: int64"
      ]
     },
     "execution_count": 13,
     "metadata": {},
     "output_type": "execute_result"
    }
   ],
   "source": [
    "from tkinter import Y\n",
    "feature_cols = ['Age','JOB_admin.','JOB_blue-collar','JOB_entrepreneur','JOB_housemaid','JOB_management','JOB_retired','JOB_self-employed',\n",
    "                'JOB_services','JOB_student','JOB_technician','JOB_unemployed','JOB_unknown','Marital_divorced','Marital_married','Marital_single',\n",
    "                'Marital_unknown','Education_basic.4y','Education_basic.6y','Education_basic.9y','Education_high.school','Education_illiterate',\n",
    "                'Education_professional.course','Education_university.degree','Education_unknown','Creditviolation_no','Creditviolation_unknown',\n",
    "                'Creditviolation_yes','Mortgage_no','Mortgage_unknown','Mortgage_yes','Loan_no','Loan_unknown','Loan_yes','Contact',\n",
    "                'Month_CPI_CCI_1','Month_CPI_CCI_2','Month_CPI_CCI_3','Month_CPI_CCI_4','Month_CPI_CCI_5','Month_CPI_CCI_6','Month_CPI_CCI_7',\n",
    "                'Month_CPI_CCI_8','Month_CPI_CCI_9','Month_CPI_CCI_10','Month_CPI_CCI_11','Month_CPI_CCI_12','Month_CPI_CCI_13',\n",
    "                'Month_CPI_CCI_14','Month_CPI_CCI_15','Month_CPI_CCI_16','Month_CPI_CCI_17','Month_CPI_CCI_18','Month_CPI_CCI_19',\n",
    "                'Month_CPI_CCI_20','Month_CPI_CCI_21','Month_CPI_CCI_22','Month_CPI_CCI_23','Month_CPI_CCI_24','Month_CPI_CCI_25',\n",
    "                'Month_CPI_CCI_26','DOW_mon','DOW_tue','DOW_wed','DOW_thu','DOW_fri','Duration','Campaign','Pdays_0','Pdays_1','Pdays_2',\n",
    "                'Pdays_3','Pdays_4','Pdays_5','Pdays_6','Pdays_7','Pdays_8','Pdays_9','Pdays_10','Pdays_11','Pdays_12','Pdays_13','Pdays_14',\n",
    "                'Pdays_15','Pdays_16','Pdays_17','Pdays_18','Pdays_19','Pdays_20','Pdays_21','Pdays_22','Pdays_25','Pdays_26','Pdays_27',\n",
    "                'Pdays_999','Previous','Poutcome_failure','Poutcome_nonexistent','Poutcome_success','EVR','NE','Subscription','Y']\n",
    "X = data[feature_cols] # Features\n",
    "y = data.Y # Target variable\n",
    "y"
   ]
  },
  {
   "cell_type": "code",
   "execution_count": 14,
   "metadata": {},
   "outputs": [],
   "source": [
    "data2 = preprocessing.normalize(data, norm= 'l2')\n",
    "scaler = MinMaxScaler()\n",
    "data3 = scaler.fit(data)\n",
    "data3 = scaler.transform(data)"
   ]
  },
  {
   "cell_type": "code",
   "execution_count": 15,
   "metadata": {},
   "outputs": [],
   "source": [
    "X_train, X_test, y_train, y_test = train_test_split(X, y, test_size=0.3, random_state=1)"
   ]
  },
  {
   "cell_type": "code",
   "execution_count": 16,
   "metadata": {},
   "outputs": [
    {
     "data": {
      "text/plain": [
       "(28831, 103)"
      ]
     },
     "execution_count": 16,
     "metadata": {},
     "output_type": "execute_result"
    }
   ],
   "source": [
    "X_train.shape"
   ]
  },
  {
   "cell_type": "code",
   "execution_count": 10,
   "metadata": {},
   "outputs": [],
   "source": [
    "#training\n",
    "trainingPath=r'adult _data(N)_v1.csv'\n",
    "trainingData=[]\n",
    "import csv\n",
    "with open(trainingPath, \"r\", newline=\"\") as csvData:\n",
    "  reader = csv.reader(csvData)\n",
    "  for r in reader:\n",
    "     trainingData.append(r)\n",
    "Xtraining=[]\n",
    "ytraining=[]\n",
    "#Feature Label\n",
    "feature=[]\n",
    "#Pure Data\n",
    "pureData=[]\n",
    "for r in range(0,len(trainingData)):\n",
    "    #Row Data\n",
    "    rowData=[]\n",
    "    for c in range(0,len(trainingData[r])):\n",
    "        rowData.append(trainingData[r][c])\n",
    "    if(r==0):\n",
    "        feature=rowData\n",
    "    else:\n",
    "        pureData.append(rowData)\n",
    "X_train=[]\n",
    "y_train=[]\n",
    "for r in range(0,len(pureData)):\n",
    "    #Row Data\n",
    "    rowData=[]\n",
    "    for c in range(0,len(pureData[r])-1):\n",
    "        rowData.append(float(pureData[r][c]))\n",
    "    X_train.append(rowData)\n",
    "    y_train.append(float(pureData[r][len(pureData[r])-1]))\n",
    "#test\n",
    "testPath=r'adult _test(N)_v1.csv'\n",
    "testData=[]\n",
    "import csv\n",
    "with open(testPath, \"r\", newline=\"\") as csvData:\n",
    "  reader = csv.reader(csvData)\n",
    "  for r in reader:\n",
    "     testData.append(r)\n",
    "#Pure Data\n",
    "pureData=[]\n",
    "for r in range(0,len(testData)):\n",
    "    #Row Data\n",
    "    rowData=[]\n",
    "    for c in range(0,len(testData[r])):\n",
    "        rowData.append(testData[r][c])\n",
    "    if(r!=0):\n",
    "        pureData.append(rowData)\n",
    "X_test=[]\n",
    "y_test=[]\n",
    "for r in range(0,len(pureData)):\n",
    "    #Row Data\n",
    "    rowData=[]\n",
    "    for c in range(0,len(pureData[r])-1):\n",
    "        rowData.append(float(pureData[r][c]))\n",
    "    X_test.append(rowData)\n",
    "    y_test.append(float(pureData[r][len(pureData[r])-1]))"
   ]
  },
  {
   "cell_type": "code",
   "execution_count": 11,
   "metadata": {},
   "outputs": [
    {
     "name": "stdout",
     "output_type": "stream",
     "text": [
      "MAE: 7.451135728041134\n",
      "RMSE : 10.81\n",
      "MAPE: 0.27014146571064573\n"
     ]
    }
   ],
   "source": [
    "randomForestModel = RandomForestRegressor(n_estimators=50)\n",
    "randomForestModel.fit(X_train, y_train)\n",
    "y_pred_rf = randomForestModel.predict(X_test)\n",
    "print(\"MAE:\",mean_absolute_error(y_test,y_pred_rf))\n",
    "print(\"RMSE : %.4g\" % mean_squared_error(y_test, y_pred_rf,squared=False))\n",
    "print(\"MAPE:\",mean_absolute_percentage_error(y_test,y_pred_rf))"
   ]
  },
  {
   "cell_type": "code",
   "execution_count": 12,
   "metadata": {},
   "outputs": [
    {
     "name": "stdout",
     "output_type": "stream",
     "text": [
      "0.883271589103296\n",
      "0.19650958796288753\n"
     ]
    }
   ],
   "source": [
    "print(randomForestModel.score(X_train,y_train))\n",
    "print(randomForestModel.score(X_test, y_test))"
   ]
  },
  {
   "cell_type": "code",
   "execution_count": 26,
   "metadata": {},
   "outputs": [
    {
     "name": "stdout",
     "output_type": "stream",
     "text": [
      "score_array [1.0]\n",
      " \n",
      "score_array_MAX: 1.0\n",
      "----------------------------------------------------------------------------------------------------------\n",
      "score_array_test [0.9452132394594157]\n",
      " \n",
      "score_array_test_MAX: 0.9452132394594157\n",
      "[1.0]\n",
      "[0.9452132394594157]\n"
     ]
    },
    {
     "data": {
      "text/plain": [
       "<matplotlib.collections.PathCollection at 0x24e77a8ebb0>"
      ]
     },
     "execution_count": 26,
     "metadata": {},
     "output_type": "execute_result"
    },
    {
     "data": {
      "image/png": "[encoded data removed]",
      "text/plain": [
       "<Figure size 432x288 with 1 Axes>"
      ]
     },
     "metadata": {
      "needs_background": "light"
     },
     "output_type": "display_data"
    }
   ],
   "source": [
    "score_array= []\n",
    "score_array_test= []\n",
    "y_pred_knn = RandomForestClassifier(n_estimators=100, criterion = 'gini')\n",
    "y_pred_knn.fit(X_train, y_train)\n",
    "score_val = y_pred_knn.score(X_train, y_train)\n",
    "score_test = y_pred_knn.score(X_test, y_test)\n",
    "score_array.append(score_val)\n",
    "score_array_test.append(score_test)\n",
    "\n",
    "print(\"score_array\",score_array)\n",
    "print(\" \")\n",
    "print(\"score_array_MAX:\", np.max(score_array))\n",
    "print(\"----------------------------------------------------------------------------------------------------------\")\n",
    "print(\"score_array_test\", score_array_test)\n",
    "print(\" \")\n",
    "print(\"score_array_test_MAX:\", np.max(score_array_test))\n",
    "print(score_array)\n",
    "print(score_array_test)\n",
    "xx=range(1,len(score_array))\n",
    "plt.scatter(1,score_array)\n",
    "plt.scatter(1,score_array_test)"
   ]
  },
  {
   "cell_type": "code",
   "execution_count": null,
   "metadata": {},
   "outputs": [],
   "source": []
  }
 ],
 "metadata": {
  "kernelspec": {
   "display_name": "Python 3.9.12 ('base')",
   "language": "python",
   "name": "python3"
  },
  "language_info": {
   "codemirror_mode": {
    "name": "ipython",
    "version": 3
   },
   "file_extension": ".py",
   "mimetype": "text/x-python",
   "name": "python",
   "nbconvert_exporter": "python",
   "pygments_lexer": "ipython3",
   "version": "3.9.12"
  },
  "orig_nbformat": 4,
  "vscode": {
   "interpreter": {
    "hash": "263930470851f494f0ed2879c35b57985588df20f9e529b86e97dd5eb9ddc466"
   }
  }
 },
 "nbformat": 4,
 "nbformat_minor": 2
}
