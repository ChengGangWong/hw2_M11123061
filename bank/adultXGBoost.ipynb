{
 "cells": [
  {
   "cell_type": "code",
   "execution_count": 1,
   "metadata": {},
   "outputs": [
    {
     "name": "stdout",
     "output_type": "stream",
     "text": [
      "Requirement already satisfied: pandas in c:\\users\\user\\anaconda3\\lib\\site-packages (1.4.2)\n",
      "Requirement already satisfied: numpy>=1.18.5 in c:\\users\\user\\anaconda3\\lib\\site-packages (from pandas) (1.21.5)\n",
      "Requirement already satisfied: python-dateutil>=2.8.1 in c:\\users\\user\\anaconda3\\lib\\site-packages (from pandas) (2.8.2)\n",
      "Requirement already satisfied: pytz>=2020.1 in c:\\users\\user\\anaconda3\\lib\\site-packages (from pandas) (2021.3)\n",
      "Requirement already satisfied: six>=1.5 in c:\\users\\user\\anaconda3\\lib\\site-packages (from python-dateutil>=2.8.1->pandas) (1.16.0)\n",
      "Note: you may need to restart the kernel to use updated packages.\n"
     ]
    }
   ],
   "source": [
    "pip install pandas"
   ]
  },
  {
   "cell_type": "code",
   "execution_count": 2,
   "metadata": {},
   "outputs": [
    {
     "name": "stdout",
     "output_type": "stream",
     "text": [
      "Requirement already satisfied: graphviz in c:\\users\\user\\anaconda3\\lib\\site-packages (0.20.1)\n",
      "Note: you may need to restart the kernel to use updated packages.\n"
     ]
    }
   ],
   "source": [
    "pip install graphviz"
   ]
  },
  {
   "cell_type": "code",
   "execution_count": 3,
   "metadata": {},
   "outputs": [
    {
     "name": "stdout",
     "output_type": "stream",
     "text": [
      "Requirement already satisfied: pydotplus in c:\\users\\user\\anaconda3\\lib\\site-packages (2.0.2)\n",
      "Requirement already satisfied: pyparsing>=2.0.1 in c:\\users\\user\\anaconda3\\lib\\site-packages (from pydotplus) (3.0.4)\n",
      "Note: you may need to restart the kernel to use updated packages.\n"
     ]
    }
   ],
   "source": [
    "pip install pydotplus"
   ]
  },
  {
   "cell_type": "code",
   "execution_count": 1,
   "metadata": {},
   "outputs": [],
   "source": [
    "from sklearn.ensemble import RandomForestClassifier\n",
    "from xgboost import XGBRegressor\n",
    "from sklearn import svm\n",
    "from sklearn import preprocessing\n",
    "from sklearn.metrics import mean_absolute_error, mean_squared_error, mean_absolute_percentage_error\n",
    "from sklearn.preprocessing import OneHotEncoder\n",
    "from sklearn.preprocessing import LabelEncoder\n",
    "from sklearn.model_selection import train_test_split\n",
    "from sklearn.neighbors import KNeighborsClassifier\n",
    "from sklearn.preprocessing import MinMaxScaler\n",
    "from sklearn.preprocessing import LabelEncoder\n",
    "from sklearn import datasets\n",
    "from sklearn import metrics\n",
    "import matplotlib.pyplot as plt\n",
    "import numpy as np\n",
    "import pandas as pd"
   ]
  },
  {
   "cell_type": "code",
   "execution_count": 2,
   "metadata": {},
   "outputs": [],
   "source": [
    "#training\n",
    "trainingPath=r'adult _data(N)_v1.csv'\n",
    "trainingData=[]\n",
    "import csv\n",
    "with open(trainingPath, \"r\", newline=\"\") as csvData:\n",
    "  reader = csv.reader(csvData)\n",
    "  for r in reader:\n",
    "     trainingData.append(r)\n",
    "Xtraining=[]\n",
    "ytraining=[]\n",
    "#Feature Label\n",
    "feature=[]\n",
    "#Pure Data\n",
    "pureData=[]\n",
    "for r in range(0,len(trainingData)):\n",
    "    #Row Data\n",
    "    rowData=[]\n",
    "    for c in range(0,len(trainingData[r])):\n",
    "        rowData.append(trainingData[r][c])\n",
    "    if(r==0):\n",
    "        feature=rowData\n",
    "    else:\n",
    "        pureData.append(rowData)\n",
    "X_train=[]\n",
    "y_train=[]\n",
    "for r in range(0,len(pureData)):\n",
    "    #Row Data\n",
    "    rowData=[]\n",
    "    for c in range(0,len(pureData[r])-1):\n",
    "        rowData.append(float(pureData[r][c]))\n",
    "    X_train.append(rowData)\n",
    "    y_train.append(float(pureData[r][len(pureData[r])-1]))\n",
    "#test\n",
    "testPath=r'adult _test(N)_v1.csv'\n",
    "testData=[]\n",
    "import csv\n",
    "with open(testPath, \"r\", newline=\"\") as csvData:\n",
    "  reader = csv.reader(csvData)\n",
    "  for r in reader:\n",
    "     testData.append(r)\n",
    "#Pure Data\n",
    "pureData=[]\n",
    "for r in range(0,len(testData)):\n",
    "    #Row Data\n",
    "    rowData=[]\n",
    "    for c in range(0,len(testData[r])):\n",
    "        rowData.append(testData[r][c])\n",
    "    if(r!=0):\n",
    "        pureData.append(rowData)\n",
    "X_test=[]\n",
    "y_test=[]\n",
    "for r in range(0,len(pureData)):\n",
    "    #Row Data\n",
    "    rowData=[]\n",
    "    for c in range(0,len(pureData[r])-1):\n",
    "        rowData.append(float(pureData[r][c]))\n",
    "    X_test.append(rowData)\n",
    "    y_test.append(float(pureData[r][len(pureData[r])-1]))"
   ]
  },
  {
   "cell_type": "code",
   "execution_count": 2,
   "metadata": {},
   "outputs": [],
   "source": [
    "col_names = ['Age','JOB_admin.','JOB_blue-collar','JOB_entrepreneur','JOB_housemaid','JOB_management','JOB_retired','JOB_self-employed',\n",
    "                'JOB_services','JOB_student','JOB_technician','JOB_unemployed','JOB_unknown','Marital_divorced','Marital_married','Marital_single',\n",
    "                'Marital_unknown','Education_basic.4y','Education_basic.6y','Education_basic.9y','Education_high.school','Education_illiterate',\n",
    "                'Education_professional.course','Education_university.degree','Education_unknown','Creditviolation_no','Creditviolation_unknown',\n",
    "                'Creditviolation_yes','Mortgage_no','Mortgage_unknown','Mortgage_yes','Loan_no','Loan_unknown','Loan_yes','Contact',\n",
    "                'Month_CPI_CCI_1','Month_CPI_CCI_2','Month_CPI_CCI_3','Month_CPI_CCI_4','Month_CPI_CCI_5','Month_CPI_CCI_6','Month_CPI_CCI_7',\n",
    "                'Month_CPI_CCI_8','Month_CPI_CCI_9','Month_CPI_CCI_10','Month_CPI_CCI_11','Month_CPI_CCI_12','Month_CPI_CCI_13',\n",
    "                'Month_CPI_CCI_14','Month_CPI_CCI_15','Month_CPI_CCI_16','Month_CPI_CCI_17','Month_CPI_CCI_18','Month_CPI_CCI_19',\n",
    "                'Month_CPI_CCI_20','Month_CPI_CCI_21','Month_CPI_CCI_22','Month_CPI_CCI_23','Month_CPI_CCI_24','Month_CPI_CCI_25',\n",
    "                'Month_CPI_CCI_26','DOW_mon','DOW_tue','DOW_wed','DOW_thu','DOW_fri','Duration','Campaign','Pdays_0','Pdays_1','Pdays_2',\n",
    "                'Pdays_3','Pdays_4','Pdays_5','Pdays_6','Pdays_7','Pdays_8','Pdays_9','Pdays_10','Pdays_11','Pdays_12','Pdays_13','Pdays_14',\n",
    "                'Pdays_15','Pdays_16','Pdays_17','Pdays_18','Pdays_19','Pdays_20','Pdays_21','Pdays_22','Pdays_25','Pdays_26','Pdays_27',\n",
    "                'Pdays_999','Previous','Poutcome_failure','Poutcome_nonexistent','Poutcome_success','EVR','NE','Subscription','Y']\n",
    "# load datasetSex\n",
    "data = pd.read_csv(\"Bank_Normalization_New_v2.csv\", header=None, names=col_names)"
   ]
  },
  {
   "cell_type": "code",
   "execution_count": 3,
   "metadata": {},
   "outputs": [
    {
     "data": {
      "text/html": [
       "<div>\n",
       "<style scoped>\n",
       "    .dataframe tbody tr th:only-of-type {\n",
       "        vertical-align: middle;\n",
       "    }\n",
       "\n",
       "    .dataframe tbody tr th {\n",
       "        vertical-align: top;\n",
       "    }\n",
       "\n",
       "    .dataframe thead th {\n",
       "        text-align: right;\n",
       "    }\n",
       "</style>\n",
       "<table border=\"1\" class=\"dataframe\">\n",
       "  <thead>\n",
       "    <tr style=\"text-align: right;\">\n",
       "      <th></th>\n",
       "      <th>Age</th>\n",
       "      <th>JOB_admin.</th>\n",
       "      <th>JOB_blue-collar</th>\n",
       "      <th>JOB_entrepreneur</th>\n",
       "      <th>JOB_housemaid</th>\n",
       "      <th>JOB_management</th>\n",
       "      <th>JOB_retired</th>\n",
       "      <th>JOB_self-employed</th>\n",
       "      <th>JOB_services</th>\n",
       "      <th>JOB_student</th>\n",
       "      <th>...</th>\n",
       "      <th>Pdays_27</th>\n",
       "      <th>Pdays_999</th>\n",
       "      <th>Previous</th>\n",
       "      <th>Poutcome_failure</th>\n",
       "      <th>Poutcome_nonexistent</th>\n",
       "      <th>Poutcome_success</th>\n",
       "      <th>EVR</th>\n",
       "      <th>NE</th>\n",
       "      <th>Subscription</th>\n",
       "      <th>Y</th>\n",
       "    </tr>\n",
       "  </thead>\n",
       "  <tbody>\n",
       "    <tr>\n",
       "      <th>0</th>\n",
       "      <td>0.271605</td>\n",
       "      <td>0</td>\n",
       "      <td>0</td>\n",
       "      <td>0</td>\n",
       "      <td>0</td>\n",
       "      <td>0</td>\n",
       "      <td>0</td>\n",
       "      <td>1</td>\n",
       "      <td>0</td>\n",
       "      <td>0</td>\n",
       "      <td>...</td>\n",
       "      <td>0</td>\n",
       "      <td>1</td>\n",
       "      <td>0.0</td>\n",
       "      <td>0</td>\n",
       "      <td>1</td>\n",
       "      <td>0</td>\n",
       "      <td>0.9375</td>\n",
       "      <td>0.859735</td>\n",
       "      <td>0</td>\n",
       "      <td>4857</td>\n",
       "    </tr>\n",
       "    <tr>\n",
       "      <th>1</th>\n",
       "      <td>0.469136</td>\n",
       "      <td>0</td>\n",
       "      <td>0</td>\n",
       "      <td>0</td>\n",
       "      <td>0</td>\n",
       "      <td>0</td>\n",
       "      <td>0</td>\n",
       "      <td>0</td>\n",
       "      <td>0</td>\n",
       "      <td>0</td>\n",
       "      <td>...</td>\n",
       "      <td>0</td>\n",
       "      <td>1</td>\n",
       "      <td>0.0</td>\n",
       "      <td>0</td>\n",
       "      <td>1</td>\n",
       "      <td>0</td>\n",
       "      <td>0.9375</td>\n",
       "      <td>0.859735</td>\n",
       "      <td>0</td>\n",
       "      <td>4857</td>\n",
       "    </tr>\n",
       "    <tr>\n",
       "      <th>2</th>\n",
       "      <td>0.395062</td>\n",
       "      <td>0</td>\n",
       "      <td>0</td>\n",
       "      <td>1</td>\n",
       "      <td>0</td>\n",
       "      <td>0</td>\n",
       "      <td>0</td>\n",
       "      <td>0</td>\n",
       "      <td>0</td>\n",
       "      <td>0</td>\n",
       "      <td>...</td>\n",
       "      <td>0</td>\n",
       "      <td>1</td>\n",
       "      <td>0.0</td>\n",
       "      <td>0</td>\n",
       "      <td>1</td>\n",
       "      <td>0</td>\n",
       "      <td>0.9375</td>\n",
       "      <td>0.859735</td>\n",
       "      <td>1</td>\n",
       "      <td>4857</td>\n",
       "    </tr>\n",
       "    <tr>\n",
       "      <th>3</th>\n",
       "      <td>0.506173</td>\n",
       "      <td>0</td>\n",
       "      <td>0</td>\n",
       "      <td>0</td>\n",
       "      <td>0</td>\n",
       "      <td>0</td>\n",
       "      <td>0</td>\n",
       "      <td>0</td>\n",
       "      <td>0</td>\n",
       "      <td>0</td>\n",
       "      <td>...</td>\n",
       "      <td>0</td>\n",
       "      <td>1</td>\n",
       "      <td>0.0</td>\n",
       "      <td>0</td>\n",
       "      <td>1</td>\n",
       "      <td>0</td>\n",
       "      <td>0.9375</td>\n",
       "      <td>0.859735</td>\n",
       "      <td>0</td>\n",
       "      <td>4857</td>\n",
       "    </tr>\n",
       "    <tr>\n",
       "      <th>4</th>\n",
       "      <td>0.345679</td>\n",
       "      <td>0</td>\n",
       "      <td>1</td>\n",
       "      <td>0</td>\n",
       "      <td>0</td>\n",
       "      <td>0</td>\n",
       "      <td>0</td>\n",
       "      <td>0</td>\n",
       "      <td>0</td>\n",
       "      <td>0</td>\n",
       "      <td>...</td>\n",
       "      <td>0</td>\n",
       "      <td>1</td>\n",
       "      <td>0.0</td>\n",
       "      <td>0</td>\n",
       "      <td>1</td>\n",
       "      <td>0</td>\n",
       "      <td>0.9375</td>\n",
       "      <td>0.859735</td>\n",
       "      <td>1</td>\n",
       "      <td>4857</td>\n",
       "    </tr>\n",
       "  </tbody>\n",
       "</table>\n",
       "<p>5 rows × 103 columns</p>\n",
       "</div>"
      ],
      "text/plain": [
       "        Age  JOB_admin.  JOB_blue-collar  JOB_entrepreneur  JOB_housemaid  \\\n",
       "0  0.271605           0                0                 0              0   \n",
       "1  0.469136           0                0                 0              0   \n",
       "2  0.395062           0                0                 1              0   \n",
       "3  0.506173           0                0                 0              0   \n",
       "4  0.345679           0                1                 0              0   \n",
       "\n",
       "   JOB_management  JOB_retired  JOB_self-employed  JOB_services  JOB_student  \\\n",
       "0               0            0                  1             0            0   \n",
       "1               0            0                  0             0            0   \n",
       "2               0            0                  0             0            0   \n",
       "3               0            0                  0             0            0   \n",
       "4               0            0                  0             0            0   \n",
       "\n",
       "   ...  Pdays_27  Pdays_999  Previous  Poutcome_failure  Poutcome_nonexistent  \\\n",
       "0  ...         0          1       0.0                 0                     1   \n",
       "1  ...         0          1       0.0                 0                     1   \n",
       "2  ...         0          1       0.0                 0                     1   \n",
       "3  ...         0          1       0.0                 0                     1   \n",
       "4  ...         0          1       0.0                 0                     1   \n",
       "\n",
       "   Poutcome_success     EVR        NE  Subscription     Y  \n",
       "0                 0  0.9375  0.859735             0  4857  \n",
       "1                 0  0.9375  0.859735             0  4857  \n",
       "2                 0  0.9375  0.859735             1  4857  \n",
       "3                 0  0.9375  0.859735             0  4857  \n",
       "4                 0  0.9375  0.859735             1  4857  \n",
       "\n",
       "[5 rows x 103 columns]"
      ]
     },
     "execution_count": 3,
     "metadata": {},
     "output_type": "execute_result"
    }
   ],
   "source": [
    "data.head()"
   ]
  },
  {
   "cell_type": "code",
   "execution_count": 4,
   "metadata": {},
   "outputs": [
    {
     "data": {
      "text/plain": [
       "0        4857\n",
       "1        4857\n",
       "2        4857\n",
       "3        4857\n",
       "4        4857\n",
       "         ... \n",
       "41183    1028\n",
       "41184    1028\n",
       "41185    1028\n",
       "41186    1028\n",
       "41187    1028\n",
       "Name: Y, Length: 41188, dtype: int64"
      ]
     },
     "execution_count": 4,
     "metadata": {},
     "output_type": "execute_result"
    }
   ],
   "source": [
    "from tkinter import Y\n",
    "feature_cols = ['Age','JOB_admin.','JOB_blue-collar','JOB_entrepreneur','JOB_housemaid','JOB_management','JOB_retired','JOB_self-employed',\n",
    "                'JOB_services','JOB_student','JOB_technician','JOB_unemployed','JOB_unknown','Marital_divorced','Marital_married','Marital_single',\n",
    "                'Marital_unknown','Education_basic.4y','Education_basic.6y','Education_basic.9y','Education_high.school','Education_illiterate',\n",
    "                'Education_professional.course','Education_university.degree','Education_unknown','Creditviolation_no','Creditviolation_unknown',\n",
    "                'Creditviolation_yes','Mortgage_no','Mortgage_unknown','Mortgage_yes','Loan_no','Loan_unknown','Loan_yes','Contact',\n",
    "                'Month_CPI_CCI_1','Month_CPI_CCI_2','Month_CPI_CCI_3','Month_CPI_CCI_4','Month_CPI_CCI_5','Month_CPI_CCI_6','Month_CPI_CCI_7',\n",
    "                'Month_CPI_CCI_8','Month_CPI_CCI_9','Month_CPI_CCI_10','Month_CPI_CCI_11','Month_CPI_CCI_12','Month_CPI_CCI_13',\n",
    "                'Month_CPI_CCI_14','Month_CPI_CCI_15','Month_CPI_CCI_16','Month_CPI_CCI_17','Month_CPI_CCI_18','Month_CPI_CCI_19',\n",
    "                'Month_CPI_CCI_20','Month_CPI_CCI_21','Month_CPI_CCI_22','Month_CPI_CCI_23','Month_CPI_CCI_24','Month_CPI_CCI_25',\n",
    "                'Month_CPI_CCI_26','DOW_mon','DOW_tue','DOW_wed','DOW_thu','DOW_fri','Duration','Campaign','Pdays_0','Pdays_1','Pdays_2',\n",
    "                'Pdays_3','Pdays_4','Pdays_5','Pdays_6','Pdays_7','Pdays_8','Pdays_9','Pdays_10','Pdays_11','Pdays_12','Pdays_13','Pdays_14',\n",
    "                'Pdays_15','Pdays_16','Pdays_17','Pdays_18','Pdays_19','Pdays_20','Pdays_21','Pdays_22','Pdays_25','Pdays_26','Pdays_27',\n",
    "                'Pdays_999','Previous','Poutcome_failure','Poutcome_nonexistent','Poutcome_success','EVR','NE','Subscription','Y']\n",
    "X = data[feature_cols] # Features\n",
    "y = data.Y # Target variable\n",
    "y"
   ]
  },
  {
   "cell_type": "code",
   "execution_count": 5,
   "metadata": {},
   "outputs": [],
   "source": [
    "data2 = preprocessing.normalize(data, norm= 'l2')\n",
    "scaler = MinMaxScaler()\n",
    "data3 = scaler.fit(data)\n",
    "data3 = scaler.transform(data)"
   ]
  },
  {
   "cell_type": "code",
   "execution_count": 6,
   "metadata": {},
   "outputs": [],
   "source": [
    "X_train, X_test, y_train, y_test = train_test_split(X, y, test_size=0.3, random_state=1)"
   ]
  },
  {
   "cell_type": "code",
   "execution_count": 7,
   "metadata": {},
   "outputs": [
    {
     "data": {
      "text/plain": [
       "(28831, 103)"
      ]
     },
     "execution_count": 7,
     "metadata": {},
     "output_type": "execute_result"
    }
   ],
   "source": [
    "X_train.shape"
   ]
  },
  {
   "cell_type": "code",
   "execution_count": null,
   "metadata": {},
   "outputs": [],
   "source": [
    "#training\n",
    "trainingPath=r'adult _data(N)_v1.csv'\n",
    "trainingData=[]\n",
    "import csv\n",
    "with open(trainingPath, \"r\", newline=\"\") as csvData:\n",
    "  reader = csv.reader(csvData)\n",
    "  for r in reader:\n",
    "     trainingData.append(r)\n",
    "Xtraining=[]\n",
    "ytraining=[]\n",
    "#Feature Label\n",
    "feature=[]\n",
    "#Pure Data\n",
    "pureData=[]\n",
    "for r in range(0,len(trainingData)):\n",
    "    #Row Data\n",
    "    rowData=[]\n",
    "    for c in range(0,len(trainingData[r])):\n",
    "        rowData.append(trainingData[r][c])\n",
    "    if(r==0):\n",
    "        feature=rowData\n",
    "    else:\n",
    "        pureData.append(rowData)\n",
    "X_train=[]\n",
    "y_train=[]\n",
    "for r in range(0,len(pureData)):\n",
    "    #Row Data\n",
    "    rowData=[]\n",
    "    for c in range(0,len(pureData[r])-1):\n",
    "        rowData.append(float(pureData[r][c]))\n",
    "    X_train.append(rowData)\n",
    "    y_train.append(float(pureData[r][len(pureData[r])-1]))\n",
    "#test\n",
    "testPath=r'adult _test(N)_v1.csv'\n",
    "testData=[]\n",
    "import csv\n",
    "with open(testPath, \"r\", newline=\"\") as csvData:\n",
    "  reader = csv.reader(csvData)\n",
    "  for r in reader:\n",
    "     testData.append(r)\n",
    "#Pure Data\n",
    "pureData=[]\n",
    "for r in range(0,len(testData)):\n",
    "    #Row Data\n",
    "    rowData=[]\n",
    "    for c in range(0,len(testData[r])):\n",
    "        rowData.append(testData[r][c])\n",
    "    if(r!=0):\n",
    "        pureData.append(rowData)\n",
    "X_test=[]\n",
    "y_test=[]\n",
    "for r in range(0,len(pureData)):\n",
    "    #Row Data\n",
    "    rowData=[]\n",
    "    for c in range(0,len(pureData[r])-1):\n",
    "        rowData.append(float(pureData[r][c]))\n",
    "    X_test.append(rowData)\n",
    "    y_test.append(float(pureData[r][len(pureData[r])-1]))"
   ]
  },
  {
   "cell_type": "code",
   "execution_count": 9,
   "metadata": {},
   "outputs": [
    {
     "name": "stdout",
     "output_type": "stream",
     "text": [
      "MAE: 7.2498206861133605\n",
      "RMSE : 10.59\n",
      "MAPE: 0.26512252886810234\n"
     ]
    }
   ],
   "source": [
    "xgbc = XGBRegressor(n_estimators=200)\n",
    "xgbc.fit(X_train, y_train)\n",
    "y_pred_xgb = xgbc.predict(X_test)\n",
    "print(\"MAE:\",mean_absolute_error(y_test,y_pred_xgb))\n",
    "print(\"RMSE : %.4g\" % mean_squared_error(y_test, y_pred_xgb,squared=False))\n",
    "print(\"MAPE:\",mean_absolute_percentage_error(y_test,y_pred_xgb))"
   ]
  },
  {
   "cell_type": "code",
   "execution_count": 10,
   "metadata": {},
   "outputs": [
    {
     "name": "stdout",
     "output_type": "stream",
     "text": [
      "0.542000758908503\n",
      "0.22988515442344992\n"
     ]
    }
   ],
   "source": [
    "print(xgbc.score(X_train,y_train))\n",
    "print(xgbc.score(X_test, y_test))"
   ]
  },
  {
   "cell_type": "code",
   "execution_count": 11,
   "metadata": {},
   "outputs": [
    {
     "name": "stdout",
     "output_type": "stream",
     "text": [
      "score_array [-5.464936147926411, -2.5537895004904736, -1.1202744281928352, -0.4102411936307502, -0.05754007331685784, 0.1178037289176932, 0.20731827982907336, 0.25479334282410715, 0.28057653120837134, 0.2966636530214364, 0.30543975017483915, 0.31284223470916495, 0.3188453307294796, 0.3221522846510172, 0.3256993068045322, 0.329398339511602, 0.33213467131852015, 0.3348505564389411, 0.3368610139621343, 0.33867576239885444, 0.3415226724058429, 0.34356112879451495, 0.3456145598000926, 0.34816681110096526, 0.35041598147056474, 0.35178384265114626, 0.35264050467581054, 0.35316825784204997, 0.3551335455605372, 0.35706132576529936, 0.35783157189288306, 0.359758629733796, 0.3605039217618171, 0.36189669628742327, 0.36313620392392876, 0.3637105458644678, 0.36603598401098625, 0.36716665633038836, 0.3687231448997711, 0.37071843142301386, 0.37169127334288676, 0.37243457943921787, 0.37299076873718184, 0.37506167222382214, 0.37547664265176794, 0.3761513960420926, 0.376962575257342, 0.3779090697148213, 0.3798063948307604, 0.3826078545636724, 0.3842000852354506, 0.38613934287886664, 0.388561770718325, 0.3895792437076834, 0.3902340308460216, 0.393358843482129, 0.39494637340603866, 0.3967383824568199, 0.39957830382267834, 0.4017416743013864, 0.4031773072885585, 0.4053453492127099, 0.40686139700970014, 0.4091342541147779, 0.41045093517397846, 0.41333995251060884, 0.4148869833305957, 0.4156221855419613, 0.4161757758577178, 0.4165029178339956, 0.41705338040162643, 0.4180183914805753, 0.41870194487981094, 0.42018769507187625, 0.42199128120737195, 0.4232720052932002, 0.4241204555792899, 0.4243357249820845, 0.4246174153956719, 0.42640397293845644, 0.4269830280732848, 0.42935661509905465, 0.42951512045476226, 0.43024355314291296, 0.43059781890622195, 0.43175325317668534, 0.432704245714857, 0.4343151017264433, 0.43557604637602687, 0.4361878140579911, 0.43643914019276064, 0.4396390117311101, 0.44016316800161936, 0.44281138141950627, 0.44332895889129353, 0.4440118660790666, 0.4470768866431929, 0.44853350577767825, 0.44929660937195637, 0.44983142686893196, 0.4501648482065731, 0.45151178113244883, 0.4525564043087471, 0.4531589798525282, 0.4533578812979462, 0.4544295345912045, 0.45529822453260504, 0.45559286702603286, 0.4562505468950667, 0.45643000590457095, 0.45692885469882283, 0.4573866795148417, 0.4582308853832171, 0.4599778294193222, 0.4613066270576017, 0.46244208527847985, 0.4625848800564212, 0.4641614676881304, 0.4642893529152623, 0.46487275633717284, 0.4659111469935052, 0.46777243477023267, 0.4686124017930299, 0.46930413493899636, 0.47088554132019855, 0.4722412417130918, 0.47286732445323587, 0.4742809230283508, 0.47536600921155303, 0.47779140173744405, 0.4791631089509928, 0.48032511896158403, 0.48097126794036027, 0.48292381097297743, 0.4832863061910938, 0.48470799221070116, 0.485828653639216, 0.4866243987699571, 0.4874674146129846, 0.48839503161312425, 0.4894374391230347, 0.49090774381838, 0.49221308751195714, 0.49383837545567133, 0.4949761018905352, 0.49599597811043206, 0.4970919365618559, 0.4979773032148329, 0.4992185400013731, 0.4996333381587571, 0.5008970053054453, 0.5010288015632011, 0.5011987002825437, 0.5022047163357095, 0.5031348519172248, 0.5048108319770976, 0.5059137239124292, 0.5065100823825792, 0.5069619430217036, 0.5075202740390612, 0.5084541859650555, 0.5099691863552869, 0.5105933066816355, 0.5115407847120914, 0.5124718945743543, 0.5131431518822074, 0.5138267380640094, 0.514460305234707, 0.515743222678459, 0.5163137231453374, 0.5166405238750261, 0.5173431920916923, 0.517693503762015, 0.5191272864802456, 0.5208777585496599, 0.5210482645863992, 0.5220373800240692, 0.5229097834744312, 0.5237787190865717, 0.5241258551853534, 0.5246776448012314, 0.5247677539226234, 0.5253963450042534, 0.525963899968853, 0.5271400718424868, 0.5274203905193332, 0.5280841012239395, 0.5293980848132365, 0.5302980952514634, 0.5309319301498961, 0.5322476771048372, 0.5332092594428874, 0.5350229011881423, 0.5360031836269323, 0.5369151113373429, 0.5380182703016576, 0.5383225331975359, 0.5398355823260783, 0.5409179839046605, 0.542000758908503, 0.5423752525810308, 0.5432644108636817, 0.5446461306410415, 0.5457904004786392, 0.5460311130775273, 0.5471269620783713, 0.547975386865764, 0.5480704301590592, 0.5489265499846343, 0.5500148651442754, 0.5506176887813032, 0.5510361322257455, 0.5525239515079392, 0.5532027707233561, 0.5538972030982532, 0.5547469468088948, 0.5555622304890159, 0.5560410500375257, 0.5564539883069309, 0.5573826668252123, 0.5576531797289144, 0.5589731639576729, 0.5596558851170885, 0.5605047855521867, 0.5611508427837296, 0.5616864698467332, 0.5618857820849164, 0.5624259156534236, 0.5636327095962397, 0.5640323870255368, 0.5650374610069437, 0.5657508155680133, 0.5662510956399869, 0.5671479467104034, 0.5675940647562401, 0.5680750079537618, 0.569345337145488, 0.5698613164183249, 0.5700995850735263, 0.5709037040194712, 0.5716816210360596, 0.5722006193013318, 0.5728219282497822, 0.5733952998100116, 0.5736104334909788, 0.5740247915083565, 0.5742247577899547, 0.5745789703510444, 0.5755623636941527, 0.5766064997590172, 0.5770406629574245, 0.5771794472576448, 0.5772383316019972, 0.5776883049021384, 0.5785136211212294, 0.5793773694460951, 0.58057452516538, 0.5811557096781508, 0.5816015530696983, 0.5821186515697006, 0.5825918167122274, 0.5833407064306393, 0.584351957149319, 0.5851874320280515, 0.5857045861696294, 0.5865030599461244, 0.5870238900244298, 0.5873368467279355, 0.587706238806328, 0.5890560310206887, 0.5893084283932724, 0.5895948506694869, 0.5901829971010377, 0.590603307145076, 0.591542093244158, 0.5918353581123237, 0.5919108698649346, 0.5928142803147195, 0.5929601450358679, 0.5938577640375533, 0.5939375689045885, 0.5939872393275702, 0.5947013311148299, 0.5955141972894593, 0.5960169443955848, 0.5966722235200401, 0.5970434717502886, 0.5976460201807172, 0.5979674654463478, 0.5982065773379481, 0.5984349872389703, 0.5990274985247684, 0.5996749119725966, 0.6000291828166622, 0.6008813563118531, 0.6014880070293067, 0.6016505179110804, 0.6023325627714406, 0.6024374498980907]\n",
      " \n",
      "score_array_MAX: 0.6024374498980907\n",
      "----------------------------------------------------------------------------------------------------------\n",
      "score_array_test [-5.412341947411322, -2.546638177761595, -1.134143648819387, -0.43532550751319476, -0.09070808204789027, 0.08126046868365866, 0.16793811035716755, 0.21268278263211415, 0.2351551987169468, 0.24790462884366593, 0.25363286929722584, 0.25763075449903683, 0.2603968483354566, 0.2612346953944955, 0.261406381077144, 0.2614577116360187, 0.2611905298107552, 0.2614685072428242, 0.261588275213013, 0.2617191177315802, 0.26159790717590914, 0.26117723261232884, 0.26066879398694953, 0.2598849426194627, 0.2606837591411879, 0.26055436105907104, 0.2604106080909403, 0.26032162089447375, 0.2606456153471597, 0.26008473139802535, 0.25987619722205946, 0.25956400986818196, 0.25941466110721234, 0.259877030599295, 0.26040337518255585, 0.2602532059734466, 0.26110095051370397, 0.2608826968172605, 0.2604960089452324, 0.26060510982209706, 0.26056757155375787, 0.26020694500452235, 0.25995644241759486, 0.2599527249247009, 0.2595475398704361, 0.2590943480631238, 0.2589715187717988, 0.25891891896678443, 0.2583160174438517, 0.25854143168974375, 0.2579058309236705, 0.2577586185101832, 0.25755204593670944, 0.2572880153715481, 0.25759345539580925, 0.25707332340158295, 0.25707054042725674, 0.25732726994374244, 0.256510779030813, 0.25628825239256225, 0.25619034784521744, 0.2560992914652789, 0.2562763907963398, 0.255594964474004, 0.2551774655126904, 0.2538784275275532, 0.2527764884127107, 0.2524625478351046, 0.2523120058804995, 0.2522717495633008, 0.252253256805804, 0.25181618195381117, 0.251807536905574, 0.2514511081288274, 0.25107027192396236, 0.25139239594806684, 0.25122131109165313, 0.2511911172756295, 0.2510310562778558, 0.2509239597766153, 0.2507270504520386, 0.24994767016790853, 0.2498807846061073, 0.24948623934821268, 0.2494734454534805, 0.24881065392157475, 0.24872832313584647, 0.24891270374866248, 0.2488832140207894, 0.2485259581711865, 0.2484796603231718, 0.24911813873391309, 0.24885832986184797, 0.2490534817187563, 0.24882034615799942, 0.24878961665588062, 0.2488074075254041, 0.24897972855016437, 0.2488058817320481, 0.24866887419595218, 0.24842458474263185, 0.24819524645308488, 0.24808290651886677, 0.24777504331490663, 0.24765786597998063, 0.2469976611287561, 0.24648886670467918, 0.24652878223479802, 0.24619976001110622, 0.2461317155233198, 0.24606482027992493, 0.24600606095224375, 0.24583489836138517, 0.24563404777560416, 0.24553170151993786, 0.24531382814271896, 0.2450820540741533, 0.24439998627408344, 0.24437257435180637, 0.24401773404343052, 0.24372695727143756, 0.24353036617146406, 0.24319270442335705, 0.2430119141388628, 0.2427681409022565, 0.24264265693305453, 0.24241881128764864, 0.24239130218062022, 0.2422157715873452, 0.24240984240850916, 0.2422226369601721, 0.2419255956723314, 0.2419766252346427, 0.2413797466191563, 0.2411251743618541, 0.2408028479194525, 0.24082674512366387, 0.2407977636519235, 0.2407656099375064, 0.24039139407979504, 0.24024567740929814, 0.24014012848007726, 0.23980769326926854, 0.23988870970403653, 0.23965179020534488, 0.23947375141484695, 0.23930503573903594, 0.2388977817339143, 0.23898929646055134, 0.23871785338560014, 0.2381776702272559, 0.2382075546924325, 0.2382119842246041, 0.2381007131497811, 0.23804336565375162, 0.23751926154053027, 0.23746054933644767, 0.23760188933019366, 0.23747574826564233, 0.23737041519200675, 0.23727221245717656, 0.2368639639806851, 0.2368047741839474, 0.23626967319226833, 0.2361922723728498, 0.23620102475219806, 0.23619300932016973, 0.2362072634646445, 0.23594101705153825, 0.23551611945666762, 0.23530573539716426, 0.2351661314720085, 0.23502610463754026, 0.23465193882595192, 0.23369351826616092, 0.23351682592959466, 0.2332315735037005, 0.23316209968321866, 0.23322684311878328, 0.23312755522163842, 0.23306647175420858, 0.2329641399300464, 0.23289028719713512, 0.23282988493342327, 0.23274842823770214, 0.23242616686086182, 0.2322201558879473, 0.23220139355734548, 0.23198655813779923, 0.23175178303471067, 0.2309546519766642, 0.2306506728720058, 0.23071047182722704, 0.2306366481804928, 0.23033901008239166, 0.23012195612416242, 0.23003527604417828, 0.23007881179384304, 0.22991962042915237, 0.22988515442344992, 0.22981090377346958, 0.22965253525310714, 0.2293705443331312, 0.22898288360409325, 0.22887945967941292, 0.2290863106526363, 0.22902663192845985, 0.2289470989122001, 0.22905084318265623, 0.22893007574766644, 0.22843836254600647, 0.22840397522315137, 0.22811938586078162, 0.2278223614413738, 0.22764158192302253, 0.22726007778279755, 0.22688505185479368, 0.22685494743618217, 0.22674477694646178, 0.22628622206440385, 0.22614752997209864, 0.2260103460038978, 0.22595321989771644, 0.22579632434661312, 0.22558400373824516, 0.22540342380966205, 0.2254788066764586, 0.22551545334748768, 0.22520893994125946, 0.22520050326830887, 0.22498748471075547, 0.22485433261636056, 0.2245605774348881, 0.22429463112414616, 0.22408693013879644, 0.22402766592572798, 0.223691114352085, 0.22348939887250996, 0.22318556827511082, 0.22325178286001823, 0.22330088052736918, 0.22319111413316683, 0.22309612797107803, 0.22289082955989026, 0.22275085969267028, 0.22282680506094055, 0.22273587418392415, 0.2227795425593837, 0.22259273350725683, 0.22228021143997878, 0.22221358837790062, 0.22210719023175118, 0.22212187918001736, 0.22210931092660324, 0.2220653879464204, 0.22180093906572151, 0.22123171636422478, 0.2211070280920968, 0.2209011411814863, 0.22054951339573248, 0.2205950658634671, 0.22072569164336908, 0.22026299936508875, 0.21987100096172618, 0.21982208805745052, 0.21958951988745878, 0.2195824232797845, 0.21941676121883236, 0.21931978697054155, 0.2189523042319963, 0.21887161158178225, 0.2186609533392344, 0.21840227443272042, 0.21832814146218016, 0.21830538217379003, 0.21821355867960346, 0.21814962172865648, 0.2180427753414017, 0.21806802920378365, 0.21786639895657878, 0.21786233839618319, 0.21790673496940205, 0.21785691862390155, 0.21746173470338392, 0.21714722930013952, 0.21714182275899252, 0.21708887157721835, 0.21713078985495682, 0.21702468877335956, 0.2170043267226368, 0.21680303020828973, 0.216819133263068, 0.21658916262492423, 0.21662963583287853, 0.21655374687209306, 0.21662459380624222, 0.21651242498120182, 0.2162500271542851, 0.2162539351372792]\n",
      " \n",
      "score_array_test_MAX: 0.2617191177315802\n"
     ]
    },
    {
     "data": {
      "text/plain": [
       "[<matplotlib.lines.Line2D at 0x1eca23972e0>]"
      ]
     },
     "execution_count": 11,
     "metadata": {},
     "output_type": "execute_result"
    },
    {
     "data": {
      "image/png": "[encoded data removed]",
      "text/plain": [
       "<Figure size 432x288 with 1 Axes>"
      ]
     },
     "metadata": {
      "needs_background": "light"
     },
     "output_type": "display_data"
    }
   ],
   "source": [
    "score_array= []\n",
    "score_array_test= []\n",
    "for i in range(1,300):   \n",
    "    y_pred_svr = XGBRegressor(n_estimators=i)\n",
    "    y_pred_svr.fit(X_train, y_train)\n",
    "    score_val = y_pred_svr.score(X_train, y_train)\n",
    "    score_test = y_pred_svr.score(X_test, y_test)\n",
    "    score_array.append(score_val)\n",
    "    score_array_test.append(score_test)\n",
    "\n",
    "print(\"score_array\",score_array)\n",
    "print(\" \")\n",
    "print(\"score_array_MAX:\", np.max(score_array))\n",
    "print(\"----------------------------------------------------------------------------------------------------------\")\n",
    "print(\"score_array_test\", score_array_test)\n",
    "print(\" \")\n",
    "print(\"score_array_test_MAX:\", np.max(score_array_test))\n",
    "plt.plot(score_array)\n",
    "plt.plot(score_array_test)"
   ]
  },
  {
   "cell_type": "code",
   "execution_count": null,
   "metadata": {},
   "outputs": [],
   "source": []
  }
 ],
 "metadata": {
  "kernelspec": {
   "display_name": "Python 3.9.12 ('base')",
   "language": "python",
   "name": "python3"
  },
  "language_info": {
   "codemirror_mode": {
    "name": "ipython",
    "version": 3
   },
   "file_extension": ".py",
   "mimetype": "text/x-python",
   "name": "python",
   "nbconvert_exporter": "python",
   "pygments_lexer": "ipython3",
   "version": "3.9.12"
  },
  "orig_nbformat": 4,
  "vscode": {
   "interpreter": {
    "hash": "263930470851f494f0ed2879c35b57985588df20f9e529b86e97dd5eb9ddc466"
   }
  }
 },
 "nbformat": 4,
 "nbformat_minor": 2
}
